{
 "cells": [
  {
   "cell_type": "code",
   "execution_count": 1,
   "metadata": {
    "collapsed": false,
    "deletable": true,
    "editable": true
   },
   "outputs": [
    {
     "name": "stdout",
     "output_type": "stream",
     "text": [
      "abc\n"
     ]
    }
   ],
   "source": [
    "print('abc')"
   ]
  },
  {
   "cell_type": "code",
   "execution_count": 2,
   "metadata": {
    "collapsed": false,
    "deletable": true,
    "editable": true
   },
   "outputs": [
    {
     "name": "stdout",
     "output_type": "stream",
     "text": [
      "                        *************************                         \n"
     ]
    }
   ],
   "source": [
    " print(\"{:^74}\".format(\"*************************\"))"
   ]
  },
  {
   "cell_type": "code",
   "execution_count": 3,
   "metadata": {
    "collapsed": false,
    "deletable": true,
    "editable": true
   },
   "outputs": [
    {
     "name": "stdout",
     "output_type": "stream",
     "text": [
      "                             Playing Matches                              \n"
     ]
    }
   ],
   "source": [
    "print(\"{:^74}\".format(\"Playing Matches\"))"
   ]
  },
  {
   "cell_type": "code",
   "execution_count": 2,
   "metadata": {
    "collapsed": false,
    "deletable": true,
    "editable": true
   },
   "outputs": [
    {
     "ename": "ImportError",
     "evalue": "cannot import name 'AlphaBetaPlayer'",
     "output_type": "error",
     "traceback": [
      "\u001b[0;31m----------------------------------\u001b[0m",
      "\u001b[0;31mImportError\u001b[0mTraceback (most recent call last)",
      "\u001b[0;32m<ipython-input-2-562f426815d9>\u001b[0m in \u001b[0;36m<module>\u001b[0;34m()\u001b[0m\n\u001b[1;32m      1\u001b[0m \u001b[0;32mfrom\u001b[0m \u001b[0misolation\u001b[0m \u001b[0;32mimport\u001b[0m \u001b[0mBoard\u001b[0m\u001b[0;34m\u001b[0m\u001b[0m\n\u001b[0;32m----> 2\u001b[0;31m \u001b[0;32mfrom\u001b[0m \u001b[0msample_players\u001b[0m \u001b[0;32mimport\u001b[0m \u001b[0mAlphaBetaPlayer\u001b[0m\u001b[0;34m\u001b[0m\u001b[0m\n\u001b[0m\u001b[1;32m      3\u001b[0m \u001b[0;32mfrom\u001b[0m \u001b[0msample_players\u001b[0m \u001b[0;32mimport\u001b[0m \u001b[0mGreedyPlayer\u001b[0m\u001b[0;34m\u001b[0m\u001b[0m\n\u001b[1;32m      4\u001b[0m \u001b[0;34m\u001b[0m\u001b[0m\n\u001b[1;32m      5\u001b[0m \u001b[0;31m# create an isolation board (by default 7x7)\u001b[0m\u001b[0;34m\u001b[0m\u001b[0;34m\u001b[0m\u001b[0m\n",
      "\u001b[0;31mImportError\u001b[0m: cannot import name 'AlphaBetaPlayer'"
     ]
    }
   ],
   "source": [
    "from isolation import Board\n",
    "from sample_players import RandomPlayer\n",
    "from sample_players import GreedyPlayer\n",
    "\n",
    "# create an isolation board (by default 7x7)\n",
    "player1 = RandomPlayer()\n",
    "player2 = GreedyPlayer()\n",
    "game = Board(player1, player2)\n",
    "\n",
    "# place player 1 on the board at row 2, column 3, then place player 2 on\n",
    "# the board at row 0, column 5; display the resulting board state.  Note\n",
    "# that the .apply_move() method changes the calling object in-place.\n",
    "game.apply_move((2, 3))\n",
    "game.apply_move((0, 5))\n",
    "print(game.to_string())\n",
    "\n",
    "# players take turns moving on the board, so player1 should be next to move\n",
    "assert(player1 == game.active_player)\n",
    "\n",
    "# get a list of the legal moves available to the active player\n",
    "print(game.get_legal_moves())\n",
    "\n",
    "# get a successor of the current state by making a copy of the board and\n",
    "# applying a move. Notice that this does NOT change the calling object\n",
    "# (unlike .apply_move()).\n",
    "new_game = game.forecast_move((1, 1))\n",
    "assert(new_game.to_string() != game.to_string())\n",
    "print(\"\\nOld state:\\n{}\".format(game.to_string()))\n",
    "print(\"\\nNew state:\\n{}\".format(new_game.to_string()))\n",
    "\n",
    "# play the remainder of the game automatically -- outcome can be \"illegal\n",
    "# move\", \"timeout\", or \"forfeit\"\n",
    "winner, history, outcome = game.play()\n",
    "print(\"\\nWinner: {}\\nOutcome: {}\".format(winner, outcome))\n",
    "print(game.to_string())\n",
    "print(\"Move history:\\n{!s}\".format(history))"
   ]
  },
  {
   "cell_type": "code",
   "execution_count": null,
   "metadata": {
    "collapsed": true,
    "deletable": true,
    "editable": true
   },
   "outputs": [],
   "source": []
  }
 ],
 "metadata": {
  "kernelspec": {
   "display_name": "Python 3",
   "language": "python",
   "name": "python3"
  },
  "language_info": {
   "codemirror_mode": {
    "name": "ipython",
    "version": 3
   },
   "file_extension": ".py",
   "mimetype": "text/x-python",
   "name": "python",
   "nbconvert_exporter": "python",
   "pygments_lexer": "ipython3",
   "version": "3.6.0"
  }
 },
 "nbformat": 4,
 "nbformat_minor": 2
}
