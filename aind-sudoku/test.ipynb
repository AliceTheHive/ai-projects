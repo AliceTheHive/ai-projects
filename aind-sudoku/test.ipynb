{
 "cells": [
  {
   "cell_type": "code",
   "execution_count": 3,
   "metadata": {
    "collapsed": true,
    "deletable": true,
    "editable": true
   },
   "outputs": [],
   "source": [
    "import solution"
   ]
  },
  {
   "cell_type": "code",
   "execution_count": 4,
   "metadata": {
    "collapsed": true,
    "deletable": true,
    "editable": true
   },
   "outputs": [],
   "source": [
    "diagonal_grid = '2.............62....1....7...6..8...3...9...7...6..4...4....8....52.............3'"
   ]
  },
  {
   "cell_type": "code",
   "execution_count": 6,
   "metadata": {
    "collapsed": false,
    "deletable": true,
    "editable": true
   },
   "outputs": [
    {
     "data": {
      "text/plain": [
       "'2.............62....1....7...6..8...3...9...7...6..4...4....8....52.............3'"
      ]
     },
     "execution_count": 6,
     "metadata": {},
     "output_type": "execute_result"
    }
   ],
   "source": [
    "diagonal_grid"
   ]
  },
  {
   "cell_type": "code",
   "execution_count": 34,
   "metadata": {
    "collapsed": true
   },
   "outputs": [],
   "source": [
    "def reduce_puzzle(values):\n",
    "    \"\"\"\n",
    "    Iterate eliminate() and only_choice(). If at some point, there is a box with no available values, return False.\n",
    "    If the sudoku is solved, return the sudoku.\n",
    "    If after an iteration of both functions, the sudoku remains the same, return the sudoku.\n",
    "    Input: A sudoku in dictionary form.\n",
    "    Output: The resulting sudoku in dictionary form.\n",
    "    \"\"\"\n",
    "\n",
    "    stalled = False\n",
    "    while not stalled:\n",
    "        # Check how many boxes have a determined value\n",
    "        solved_values_before = len([box for box in values.keys() if len(values[box]) == 1])\n",
    "        # Use the Eliminate Strategy\n",
    "        values = eliminate(values)\n",
    "        # Use the Only Choice Strategy\n",
    "        values = only_choice(values)\n",
    "        # Use naked twins strategy\n",
    "        values = naked_twins(values)\n",
    "        # Check how many boxes have a determined value, to compare\n",
    "        solved_values_after = len([box for box in values.keys() if len(values[box]) == 1])\n",
    "        # If no new values were added, stop the loop.\n",
    "        stalled = solved_values_before == solved_values_after\n",
    "        # Sanity check, return False if there is a box with zero available values:\n",
    "        if len([box for box in values.keys() if len(values[box]) == 0]):\n",
    "            return False\n",
    "    return values"
   ]
  },
  {
   "cell_type": "code",
   "execution_count": 44,
   "metadata": {
    "collapsed": true,
    "deletable": true,
    "editable": true
   },
   "outputs": [],
   "source": [
    "rows = 'ABCDEFGHI'\n",
    "cols = '123456789'\n",
    "\n",
    "def cross(a, b):\n",
    "    return [s+t for s in a for t in b]\n",
    "\n",
    "\n",
    "boxes = cross(rows, cols)\n",
    "\n",
    "row_units = [cross(r, cols) for r in rows]\n",
    "column_units = [cross(rows, c) for c in cols]\n",
    "square_units = [cross(rs, cs) for rs in ('ABC','DEF','GHI') for cs in ('123','456','789')]\n",
    "unitlist = row_units + column_units + square_units\n",
    "units = dict((s, [u for u in unitlist if s in u]) for s in boxes)\n",
    "peers = dict((s, set(sum(units[s],[]))-set([s])) for s in boxes)\n",
    "\n",
    "\n",
    "def display(values):\n",
    "    \"\"\"\n",
    "    Display the values as a 2-D grid.\n",
    "    Input: The sudoku in dictionary form\n",
    "    Output: None\n",
    "    \"\"\"\n",
    "    width = 1+max(len(values[s]) for s in boxes)\n",
    "    line = '+'.join(['-'*(width*3)]*3)\n",
    "    for r in rows:\n",
    "        print(''.join(values[r+c].center(width)+('|' if c in '36' else '')\n",
    "                      for c in cols))\n",
    "        if r in 'CF': print(line)\n",
    "    return\n",
    "\n",
    "\n",
    "# WARNING! We've modified this function to return '123456789' instead of '.' for boxes with no value.\n",
    "# Look at the explanation above in the text.\n",
    "def grid_values(grid):\n",
    "    \"\"\"Convert grid string into {<box>: <value>} dict with '123456789' value for empties.\n",
    "\n",
    "    Args:\n",
    "        grid: Sudoku grid in string form, 81 characters long\n",
    "    Returns:\n",
    "        Sudoku grid in dictionary form:\n",
    "        - keys: Box labels, e.g. 'A1'\n",
    "        - values: Value in corresponding box, e.g. '8', or '123456789' if it is empty.\n",
    "    \"\"\"\n",
    "    values = []\n",
    "    all_digits = '123456789'\n",
    "    for c in grid:\n",
    "        if c == '.':\n",
    "            values.append(all_digits)\n",
    "        elif c in all_digits:\n",
    "            values.append(c)\n",
    "    assert len(values) == 81\n",
    "    return dict(zip(boxes, values))\n"
   ]
  },
  {
   "cell_type": "code",
   "execution_count": 8,
   "metadata": {
    "collapsed": false,
    "deletable": true,
    "editable": true
   },
   "outputs": [
    {
     "data": {
      "text/plain": [
       "[['A1', 'A2', 'A3', 'A4', 'A5', 'A6', 'A7', 'A8', 'A9'],\n",
       " ['B1', 'B2', 'B3', 'B4', 'B5', 'B6', 'B7', 'B8', 'B9'],\n",
       " ['C1', 'C2', 'C3', 'C4', 'C5', 'C6', 'C7', 'C8', 'C9'],\n",
       " ['D1', 'D2', 'D3', 'D4', 'D5', 'D6', 'D7', 'D8', 'D9'],\n",
       " ['E1', 'E2', 'E3', 'E4', 'E5', 'E6', 'E7', 'E8', 'E9'],\n",
       " ['F1', 'F2', 'F3', 'F4', 'F5', 'F6', 'F7', 'F8', 'F9'],\n",
       " ['G1', 'G2', 'G3', 'G4', 'G5', 'G6', 'G7', 'G8', 'G9'],\n",
       " ['H1', 'H2', 'H3', 'H4', 'H5', 'H6', 'H7', 'H8', 'H9'],\n",
       " ['I1', 'I2', 'I3', 'I4', 'I5', 'I6', 'I7', 'I8', 'I9']]"
      ]
     },
     "execution_count": 8,
     "metadata": {},
     "output_type": "execute_result"
    }
   ],
   "source": [
    "row_units"
   ]
  },
  {
   "cell_type": "code",
   "execution_count": 9,
   "metadata": {
    "collapsed": true,
    "deletable": true,
    "editable": true
   },
   "outputs": [],
   "source": [
    "grid = '..3.2.6..9..3.5..1..18.64....81.29..7.......8..67.82....26.95..8..2.3..9..5.1.3..'"
   ]
  },
  {
   "cell_type": "code",
   "execution_count": 11,
   "metadata": {
    "collapsed": false,
    "deletable": true,
    "editable": true,
    "scrolled": true
   },
   "outputs": [],
   "source": [
    "mypuzzle = grid_values(grid)"
   ]
  },
  {
   "cell_type": "code",
   "execution_count": 12,
   "metadata": {
    "collapsed": false,
    "deletable": true,
    "editable": true
   },
   "outputs": [],
   "source": [
    "def eliminate(values):\n",
    "    \"\"\"Eliminate values from peers of each box with a single value.\n",
    "\n",
    "    Go through all the boxes, and whenever there is a box with a single value,\n",
    "    eliminate this value from the set of values of all its peers.\n",
    "\n",
    "    Args:\n",
    "        values: Sudoku in dictionary form.\n",
    "    Returns:\n",
    "        Resulting Sudoku in dictionary form after eliminating values.\n",
    "    \"\"\"\n",
    "    solved_values = [box for box in values.keys() if len(values[box]) == 1]\n",
    "    for box in solved_values: #for every key in solved values\n",
    "        digit = values[box]\n",
    "        for peer in peers[box]:\n",
    "            values[peer] = values[peer].replace(digit,'')\n",
    "    return values\n"
   ]
  },
  {
   "cell_type": "code",
   "execution_count": 13,
   "metadata": {
    "collapsed": false,
    "deletable": true,
    "editable": true
   },
   "outputs": [],
   "source": [
    "values = mypuzzle"
   ]
  },
  {
   "cell_type": "code",
   "execution_count": 14,
   "metadata": {
    "collapsed": true,
    "deletable": true,
    "editable": true
   },
   "outputs": [],
   "source": [
    "solved_values = [box for box in values.keys() if len(values[box]) == 1]"
   ]
  },
  {
   "cell_type": "code",
   "execution_count": 29,
   "metadata": {
    "collapsed": false,
    "deletable": true,
    "editable": true,
    "scrolled": true
   },
   "outputs": [
    {
     "data": {
      "text/plain": [
       "{'A1': '.',\n",
       " 'A2': '',\n",
       " 'A3': '3',\n",
       " 'A4': '',\n",
       " 'A5': '2',\n",
       " 'A6': '',\n",
       " 'A7': '6',\n",
       " 'A8': '',\n",
       " 'A9': '',\n",
       " 'B1': '9',\n",
       " 'B2': '',\n",
       " 'B3': '',\n",
       " 'B4': '3',\n",
       " 'B5': '.',\n",
       " 'B6': '5',\n",
       " 'B7': '',\n",
       " 'B8': '',\n",
       " 'B9': '1',\n",
       " 'C1': '',\n",
       " 'C2': '',\n",
       " 'C3': '1',\n",
       " 'C4': '8',\n",
       " 'C5': '',\n",
       " 'C6': '6',\n",
       " 'C7': '4',\n",
       " 'C8': '.',\n",
       " 'C9': '',\n",
       " 'D1': '',\n",
       " 'D2': '.',\n",
       " 'D3': '8',\n",
       " 'D4': '1',\n",
       " 'D5': '',\n",
       " 'D6': '2',\n",
       " 'D7': '9',\n",
       " 'D8': '',\n",
       " 'D9': '',\n",
       " 'E1': '7',\n",
       " 'E2': '',\n",
       " 'E3': '',\n",
       " 'E4': '.',\n",
       " 'E5': '',\n",
       " 'E6': '',\n",
       " 'E7': '',\n",
       " 'E8': '',\n",
       " 'E9': '8',\n",
       " 'F1': '',\n",
       " 'F2': '',\n",
       " 'F3': '6',\n",
       " 'F4': '7',\n",
       " 'F5': '',\n",
       " 'F6': '8',\n",
       " 'F7': '2',\n",
       " 'F8': '',\n",
       " 'F9': '.',\n",
       " 'G1': '',\n",
       " 'G2': '',\n",
       " 'G3': '2',\n",
       " 'G4': '6',\n",
       " 'G5': '',\n",
       " 'G6': '9',\n",
       " 'G7': '5',\n",
       " 'G8': '',\n",
       " 'G9': '',\n",
       " 'H1': '8',\n",
       " 'H2': '',\n",
       " 'H3': '.',\n",
       " 'H4': '2',\n",
       " 'H5': '',\n",
       " 'H6': '3',\n",
       " 'H7': '',\n",
       " 'H8': '',\n",
       " 'H9': '9',\n",
       " 'I1': '',\n",
       " 'I2': '',\n",
       " 'I3': '5',\n",
       " 'I4': '',\n",
       " 'I5': '1',\n",
       " 'I6': '.',\n",
       " 'I7': '3',\n",
       " 'I8': '',\n",
       " 'I9': ''}"
      ]
     },
     "execution_count": 29,
     "metadata": {},
     "output_type": "execute_result"
    }
   ],
   "source": [
    "eliminate(mypuzzle)"
   ]
  },
  {
   "cell_type": "code",
   "execution_count": 16,
   "metadata": {
    "collapsed": true,
    "deletable": true,
    "editable": true
   },
   "outputs": [],
   "source": [
    "def only_choice(values):\n",
    "    \"\"\"Finalize all values that are the only choice for a unit.\n",
    "\n",
    "    Go through all the units, and whenever there is a unit with a value\n",
    "    that only fits in one box, assign the value to this box.\n",
    "\n",
    "    Input: Sudoku in dictionary form.\n",
    "    Output: Resulting Sudoku in dictionary form after filling in only choices.\n",
    "    \"\"\"\n",
    "    for unit in unitlist: #iterate through the unitlist (these are sets of peers)\n",
    "        for digit in '123456789':\n",
    "            dplaces = [box for box in unit if digit in values[box]]\n",
    "            if len(dplaces) == 1:\n",
    "                values[dplaces[0]] = digit\n",
    "    return values"
   ]
  },
  {
   "cell_type": "code",
   "execution_count": 17,
   "metadata": {
    "collapsed": false,
    "deletable": true,
    "editable": true
   },
   "outputs": [
    {
     "data": {
      "text/plain": [
       "{'A1': '.',\n",
       " 'A2': '',\n",
       " 'A3': '3',\n",
       " 'A4': '',\n",
       " 'A5': '2',\n",
       " 'A6': '',\n",
       " 'A7': '6',\n",
       " 'A8': '',\n",
       " 'A9': '',\n",
       " 'B1': '9',\n",
       " 'B2': '',\n",
       " 'B3': '',\n",
       " 'B4': '3',\n",
       " 'B5': '.',\n",
       " 'B6': '5',\n",
       " 'B7': '',\n",
       " 'B8': '',\n",
       " 'B9': '1',\n",
       " 'C1': '',\n",
       " 'C2': '',\n",
       " 'C3': '1',\n",
       " 'C4': '8',\n",
       " 'C5': '',\n",
       " 'C6': '6',\n",
       " 'C7': '4',\n",
       " 'C8': '.',\n",
       " 'C9': '',\n",
       " 'D1': '',\n",
       " 'D2': '.',\n",
       " 'D3': '8',\n",
       " 'D4': '1',\n",
       " 'D5': '',\n",
       " 'D6': '2',\n",
       " 'D7': '9',\n",
       " 'D8': '',\n",
       " 'D9': '',\n",
       " 'E1': '7',\n",
       " 'E2': '',\n",
       " 'E3': '',\n",
       " 'E4': '.',\n",
       " 'E5': '',\n",
       " 'E6': '',\n",
       " 'E7': '',\n",
       " 'E8': '',\n",
       " 'E9': '8',\n",
       " 'F1': '',\n",
       " 'F2': '',\n",
       " 'F3': '6',\n",
       " 'F4': '7',\n",
       " 'F5': '',\n",
       " 'F6': '8',\n",
       " 'F7': '2',\n",
       " 'F8': '',\n",
       " 'F9': '.',\n",
       " 'G1': '',\n",
       " 'G2': '',\n",
       " 'G3': '2',\n",
       " 'G4': '6',\n",
       " 'G5': '',\n",
       " 'G6': '9',\n",
       " 'G7': '5',\n",
       " 'G8': '',\n",
       " 'G9': '',\n",
       " 'H1': '8',\n",
       " 'H2': '',\n",
       " 'H3': '.',\n",
       " 'H4': '2',\n",
       " 'H5': '',\n",
       " 'H6': '3',\n",
       " 'H7': '',\n",
       " 'H8': '',\n",
       " 'H9': '9',\n",
       " 'I1': '',\n",
       " 'I2': '',\n",
       " 'I3': '5',\n",
       " 'I4': '',\n",
       " 'I5': '1',\n",
       " 'I6': '.',\n",
       " 'I7': '3',\n",
       " 'I8': '',\n",
       " 'I9': ''}"
      ]
     },
     "execution_count": 17,
     "metadata": {},
     "output_type": "execute_result"
    }
   ],
   "source": [
    "only_choice(values)"
   ]
  },
  {
   "cell_type": "code",
   "execution_count": 18,
   "metadata": {
    "collapsed": false,
    "deletable": true,
    "editable": true
   },
   "outputs": [
    {
     "data": {
      "text/plain": [
       "[['A1', 'A2', 'A3', 'A4', 'A5', 'A6', 'A7', 'A8', 'A9'],\n",
       " ['B1', 'B2', 'B3', 'B4', 'B5', 'B6', 'B7', 'B8', 'B9'],\n",
       " ['C1', 'C2', 'C3', 'C4', 'C5', 'C6', 'C7', 'C8', 'C9'],\n",
       " ['D1', 'D2', 'D3', 'D4', 'D5', 'D6', 'D7', 'D8', 'D9'],\n",
       " ['E1', 'E2', 'E3', 'E4', 'E5', 'E6', 'E7', 'E8', 'E9'],\n",
       " ['F1', 'F2', 'F3', 'F4', 'F5', 'F6', 'F7', 'F8', 'F9'],\n",
       " ['G1', 'G2', 'G3', 'G4', 'G5', 'G6', 'G7', 'G8', 'G9'],\n",
       " ['H1', 'H2', 'H3', 'H4', 'H5', 'H6', 'H7', 'H8', 'H9'],\n",
       " ['I1', 'I2', 'I3', 'I4', 'I5', 'I6', 'I7', 'I8', 'I9'],\n",
       " ['A1', 'B1', 'C1', 'D1', 'E1', 'F1', 'G1', 'H1', 'I1'],\n",
       " ['A2', 'B2', 'C2', 'D2', 'E2', 'F2', 'G2', 'H2', 'I2'],\n",
       " ['A3', 'B3', 'C3', 'D3', 'E3', 'F3', 'G3', 'H3', 'I3'],\n",
       " ['A4', 'B4', 'C4', 'D4', 'E4', 'F4', 'G4', 'H4', 'I4'],\n",
       " ['A5', 'B5', 'C5', 'D5', 'E5', 'F5', 'G5', 'H5', 'I5'],\n",
       " ['A6', 'B6', 'C6', 'D6', 'E6', 'F6', 'G6', 'H6', 'I6'],\n",
       " ['A7', 'B7', 'C7', 'D7', 'E7', 'F7', 'G7', 'H7', 'I7'],\n",
       " ['A8', 'B8', 'C8', 'D8', 'E8', 'F8', 'G8', 'H8', 'I8'],\n",
       " ['A9', 'B9', 'C9', 'D9', 'E9', 'F9', 'G9', 'H9', 'I9'],\n",
       " ['A1', 'A2', 'A3', 'B1', 'B2', 'B3', 'C1', 'C2', 'C3'],\n",
       " ['A4', 'A5', 'A6', 'B4', 'B5', 'B6', 'C4', 'C5', 'C6'],\n",
       " ['A7', 'A8', 'A9', 'B7', 'B8', 'B9', 'C7', 'C8', 'C9'],\n",
       " ['D1', 'D2', 'D3', 'E1', 'E2', 'E3', 'F1', 'F2', 'F3'],\n",
       " ['D4', 'D5', 'D6', 'E4', 'E5', 'E6', 'F4', 'F5', 'F6'],\n",
       " ['D7', 'D8', 'D9', 'E7', 'E8', 'E9', 'F7', 'F8', 'F9'],\n",
       " ['G1', 'G2', 'G3', 'H1', 'H2', 'H3', 'I1', 'I2', 'I3'],\n",
       " ['G4', 'G5', 'G6', 'H4', 'H5', 'H6', 'I4', 'I5', 'I6'],\n",
       " ['G7', 'G8', 'G9', 'H7', 'H8', 'H9', 'I7', 'I8', 'I9']]"
      ]
     },
     "execution_count": 18,
     "metadata": {},
     "output_type": "execute_result"
    }
   ],
   "source": [
    "unitlist"
   ]
  },
  {
   "cell_type": "code",
   "execution_count": 19,
   "metadata": {
    "collapsed": true,
    "deletable": true,
    "editable": true
   },
   "outputs": [],
   "source": [
    "for unit in unitlist: #iterate through the unitlist (these are sets of peers)\n",
    "    for digit in '123456789':\n",
    "        dplaces = [box for box in unit if digit in values[box]]"
   ]
  },
  {
   "cell_type": "code",
   "execution_count": 20,
   "metadata": {
    "collapsed": false,
    "deletable": true,
    "editable": true
   },
   "outputs": [
    {
     "data": {
      "text/plain": [
       "True"
      ]
     },
     "execution_count": 20,
     "metadata": {},
     "output_type": "execute_result"
    }
   ],
   "source": [
    "all(['hello','bye', True])"
   ]
  },
  {
   "cell_type": "code",
   "execution_count": 21,
   "metadata": {
    "collapsed": false,
    "deletable": true,
    "editable": true
   },
   "outputs": [],
   "source": [
    "def search(values):\n",
    "    \"\"\"Using depth-first search and propagation, try all possible values.\n",
    "    So, what is happening here?  First we run the reduce puzzle function which \n",
    "    executes reduce and only choice.\n",
    "    After the function completes, check the puzzle, if it is solved then return it.\n",
    "    If not (returns false), then we need to find the unfinished square that has the least letters\n",
    "    Now, replace that square with a single value, and recursively run the search() function. (DFS)\n",
    "\n",
    "    \"\"\"\n",
    "    # First, reduce the puzzle using the previous function\n",
    "    values = reduce_puzzle(values)\n",
    "    if values is False:\n",
    "        return False ## Failed earlier\n",
    "    if all(len(values[s]) == 1 for s in boxes): \n",
    "        return values ## Solved!\n",
    "    # Choose one of the unfilled squares with the fewest possibilities\n",
    "    n,s = min((len(values[s]), s) for s in boxes if len(values[s]) > 1)\n",
    "    # Now use recurrence to solve each one of the resulting sudokus, and \n",
    "    for value in values[s]:\n",
    "        new_sudoku = values.copy()\n",
    "        new_sudoku[s] = value\n",
    "        attempt = search(new_sudoku)\n",
    "        if attempt:\n",
    "            return attempt"
   ]
  },
  {
   "cell_type": "code",
   "execution_count": 22,
   "metadata": {
    "collapsed": true,
    "deletable": true,
    "editable": true
   },
   "outputs": [],
   "source": [
    "grid = '2.............62....1....7...6..8...3...9...7...6..4...4....8....52.............3'"
   ]
  },
  {
   "cell_type": "code",
   "execution_count": 31,
   "metadata": {
    "collapsed": false,
    "deletable": true,
    "editable": true
   },
   "outputs": [],
   "source": [
    "mygrid = grid_values(grid)"
   ]
  },
  {
   "cell_type": "code",
   "execution_count": 32,
   "metadata": {
    "collapsed": false,
    "deletable": true,
    "editable": true
   },
   "outputs": [
    {
     "name": "stdout",
     "output_type": "stream",
     "text": [
      "2 . . |. . . |. . . \n",
      ". . . |. . 6 |2 . . \n",
      ". . 1 |. . . |. 7 . \n",
      "------+------+------\n",
      ". . 6 |. . 8 |. . . \n",
      "3 . . |. 9 . |. . 7 \n",
      ". . . |6 . . |4 . . \n",
      "------+------+------\n",
      ". 4 . |. . . |8 . . \n",
      ". . 5 |2 . . |. . . \n",
      ". . . |. . . |. . 3 \n"
     ]
    }
   ],
   "source": [
    "display(mygrid)"
   ]
  },
  {
   "cell_type": "code",
   "execution_count": 33,
   "metadata": {
    "collapsed": false,
    "deletable": true,
    "editable": true,
    "scrolled": true
   },
   "outputs": [
    {
     "ename": "NameError",
     "evalue": "name 'reduce_puzzle' is not defined",
     "output_type": "error",
     "traceback": [
      "\u001b[0;31m-------------------------------------------------------\u001b[0m",
      "\u001b[0;31mNameError\u001b[0m             Traceback (most recent call last)",
      "\u001b[0;32m<ipython-input-33-a800a196b083>\u001b[0m in \u001b[0;36m<module>\u001b[0;34m()\u001b[0m\n\u001b[0;32m----> 1\u001b[0;31m \u001b[0mreduce_puzzle\u001b[0m\u001b[0;34m(\u001b[0m\u001b[0mmygrid\u001b[0m\u001b[0;34m)\u001b[0m\u001b[0;34m\u001b[0m\u001b[0m\n\u001b[0m",
      "\u001b[0;31mNameError\u001b[0m: name 'reduce_puzzle' is not defined"
     ]
    }
   ],
   "source": [
    "reduce_puzzle(mygrid)"
   ]
  },
  {
   "cell_type": "code",
   "execution_count": null,
   "metadata": {
    "collapsed": true,
    "deletable": true,
    "editable": true
   },
   "outputs": [],
   "source": [
    "def solve(grid):\n",
    "    \"\"\"\n",
    "    Find the solution to a Sudoku grid.\n",
    "    Args:\n",
    "        grid(string): a string representing a sudoku grid.\n",
    "            Example: '2.............62....1....7...6..8...3...9...7...6..4...4....8....52.............3'\n",
    "    Returns:\n",
    "        The dictionary representation of the final sudoku grid. False if no solution exists.\n",
    "    \"\"\"\n",
    "    values = grid_values(grid)\n",
    "    myanswer = search(values)\n",
    "    return myanswer"
   ]
  },
  {
   "cell_type": "code",
   "execution_count": null,
   "metadata": {
    "collapsed": false,
    "deletable": true,
    "editable": true
   },
   "outputs": [],
   "source": [
    "mygrid = grid_values(grid)"
   ]
  },
  {
   "cell_type": "code",
   "execution_count": null,
   "metadata": {
    "collapsed": false,
    "deletable": true,
    "editable": true
   },
   "outputs": [],
   "source": [
    "mygrid = eliminate(mygrid)"
   ]
  },
  {
   "cell_type": "code",
   "execution_count": null,
   "metadata": {
    "collapsed": false,
    "deletable": true,
    "editable": true
   },
   "outputs": [],
   "source": [
    "mygrid = only_choice(mygrid)"
   ]
  },
  {
   "cell_type": "code",
   "execution_count": null,
   "metadata": {
    "collapsed": false,
    "deletable": true,
    "editable": true
   },
   "outputs": [],
   "source": [
    "display(mygrid)"
   ]
  },
  {
   "cell_type": "code",
   "execution_count": null,
   "metadata": {
    "collapsed": false,
    "deletable": true,
    "editable": true
   },
   "outputs": [],
   "source": [
    "unitlist"
   ]
  },
  {
   "cell_type": "code",
   "execution_count": null,
   "metadata": {
    "collapsed": true,
    "deletable": true,
    "editable": true
   },
   "outputs": [],
   "source": [
    "l = [1,2,3,4,4,5,5,6,1]"
   ]
  },
  {
   "cell_type": "code",
   "execution_count": null,
   "metadata": {
    "collapsed": false,
    "deletable": true,
    "editable": true
   },
   "outputs": [],
   "source": [
    "l.count(4)"
   ]
  },
  {
   "cell_type": "code",
   "execution_count": null,
   "metadata": {
    "collapsed": true,
    "deletable": true,
    "editable": true
   },
   "outputs": [],
   "source": [
    "import collections"
   ]
  },
  {
   "cell_type": "code",
   "execution_count": null,
   "metadata": {
    "collapsed": false,
    "deletable": true,
    "editable": true
   },
   "outputs": [],
   "source": [
    "collections.Counter(l)"
   ]
  },
  {
   "cell_type": "code",
   "execution_count": null,
   "metadata": {
    "collapsed": false,
    "deletable": true,
    "editable": true
   },
   "outputs": [],
   "source": [
    "#we want to find the naked twins from this sample list\n",
    "sample_list = ['2',\n",
    " '356789',\n",
    " '34789',\n",
    " '1345789',\n",
    " '134578',\n",
    " '13',\n",
    " '13',\n",
    " '1345689',\n",
    " '145689']"
   ]
  },
  {
   "cell_type": "code",
   "execution_count": null,
   "metadata": {
    "collapsed": false,
    "deletable": true,
    "editable": true
   },
   "outputs": [],
   "source": [
    "unitlist"
   ]
  },
  {
   "cell_type": "code",
   "execution_count": null,
   "metadata": {
    "collapsed": true,
    "deletable": true,
    "editable": true
   },
   "outputs": [],
   "source": [
    "def naked_twins(values):\n",
    "    \"\"\"Eliminate values using the naked twins strategy.\n",
    "    Args:\n",
    "        values(dict): a dictionary of the form {'box_name': '123456789', ...}\n",
    "\n",
    "    Returns:\n",
    "        the values dictionary with the naked twins eliminated from peers.\n",
    "    \"\"\"\n",
    "\n",
    "    # Find all instances of naked twins\n",
    "    # Eliminate the naked twins as possibilities for their peers\n",
    "    \n",
    "    \"\"\"\n",
    "    In order to find naked twins, we must search through rows, columns and squares for twins.  \n",
    "    Once these twins have been found we need to eliminate them from the other squares in the peer group\n",
    "    \"\"\"\n",
    "    for units in unitlist:\n",
    "        for box in units:\n",
    "            digits = values[box]\n",
    "            digit_length = len(digits)\n",
    "            if digit_length = 2 "
   ]
  },
  {
   "cell_type": "code",
   "execution_count": null,
   "metadata": {
    "collapsed": true,
    "deletable": true,
    "editable": true
   },
   "outputs": [],
   "source": [
    "import itertools"
   ]
  },
  {
   "cell_type": "code",
   "execution_count": null,
   "metadata": {
    "collapsed": true,
    "deletable": true,
    "editable": true
   },
   "outputs": [],
   "source": [
    "def naked_twins(values):\n",
    "    \"\"\"Eliminate values using the naked twins strategy.\n",
    "    Args:\n",
    "        values(dict): a dictionary of the form {'box_name': '123456789', ...}\n",
    "\n",
    "    Returns:\n",
    "        the values dictionary with the naked twins eliminated from peers.\n",
    "    \"\"\"\n",
    "\n",
    "    # Find all instances of naked twins\n",
    "    # Eliminate the naked twins as possibilities for their peers\n",
    "\n",
    "    # Naked twins: two boxes in same unit that have a pair of identical digits\n",
    "    # remaining as their only possibilities\n",
    "    for unit in unitlist:\n",
    "        # Find all boxes with two digits remaining as possibilities\n",
    "        pairs = [box for box in unit if len(values[box]) == 2]\n",
    "        # Pairwise combinations\n",
    "        poss_twins = [list(pair) for pair in itertools.combinations(pairs, 2)]\n",
    "        for pair in poss_twins:\n",
    "            box1 = pair[0]\n",
    "            box2 = pair[1]\n",
    "            # Find the naked twins\n",
    "            if values[box1] == values[box2]:\n",
    "                for box in unit:\n",
    "                    # Eliminate the naked twins as possibilities for peers\n",
    "                    if box != box1 and box != box2:\n",
    "                        for digit in values[box1]:\n",
    "                            values[box] = values[box].replace(digit,'')\n",
    "    return values"
   ]
  },
  {
   "cell_type": "code",
   "execution_count": null,
   "metadata": {
    "collapsed": true,
    "deletable": true,
    "editable": true
   },
   "outputs": [],
   "source": [
    "values = {\"G7\": \"2345678\", \"G6\": \"1236789\", \"G5\": \"23456789\", \"G4\": \"345678\",\n",
    "\"G3\": \"1234569\", \"G2\": \"12345678\", \"G1\": \"23456789\", \"G9\": \"24578\",\n",
    "\"G8\": \"345678\", \"C9\": \"124578\", \"C8\": \"3456789\", \"C3\": \"1234569\",\n",
    "\"C2\": \"1234568\", \"C1\": \"2345689\", \"C7\": \"2345678\", \"C6\": \"236789\",\n",
    "\"C5\": \"23456789\", \"C4\": \"345678\", \"E5\": \"678\", \"E4\": \"2\", \"F1\": \"1\",\n",
    "\"F2\": \"24\", \"F3\": \"24\", \"F4\": \"9\", \"F5\": \"37\", \"F6\": \"37\", \"F7\": \"58\",\n",
    "\"F8\": \"58\", \"F9\": \"6\", \"B4\": \"345678\", \"B5\": \"23456789\", \"B6\":\n",
    "\"236789\", \"B7\": \"2345678\", \"B1\": \"2345689\", \"B2\": \"1234568\", \"B3\":\n",
    "\"1234569\", \"B8\": \"3456789\", \"B9\": \"124578\", \"I9\": \"9\", \"I8\": \"345678\",\n",
    "\"I1\": \"2345678\", \"I3\": \"23456\", \"I2\": \"2345678\", \"I5\": \"2345678\",\n",
    "\"I4\": \"345678\", \"I7\": \"1\", \"I6\": \"23678\", \"A1\": \"2345689\", \"A3\": \"7\",\n",
    "\"A2\": \"234568\", \"E9\": \"3\", \"A4\": \"34568\", \"A7\": \"234568\", \"A6\":\n",
    "\"23689\", \"A9\": \"2458\", \"A8\": \"345689\", \"E7\": \"9\", \"E6\": \"4\", \"E1\":\n",
    "\"567\", \"E3\": \"56\", \"E2\": \"567\", \"E8\": \"1\", \"A5\": \"1\", \"H8\": \"345678\",\n",
    "\"H9\": \"24578\", \"H2\": \"12345678\", \"H3\": \"1234569\", \"H1\": \"23456789\",\n",
    "\"H6\": \"1236789\", \"H7\": \"2345678\", \"H4\": \"345678\", \"H5\": \"23456789\",\n",
    "\"D8\": \"2\", \"D9\": \"47\", \"D6\": \"5\", \"D7\": \"47\", \"D4\": \"1\", \"D5\": \"36\",\n",
    "\"D2\": \"9\", \"D3\": \"8\", \"D1\": \"36\"}"
   ]
  },
  {
   "cell_type": "code",
   "execution_count": null,
   "metadata": {
    "collapsed": false,
    "deletable": true,
    "editable": true
   },
   "outputs": [],
   "source": [
    "display(values)"
   ]
  },
  {
   "cell_type": "code",
   "execution_count": null,
   "metadata": {
    "collapsed": false,
    "deletable": true,
    "editable": true
   },
   "outputs": [],
   "source": [
    "display(naked_twins(values))"
   ]
  },
  {
   "cell_type": "code",
   "execution_count": 27,
   "metadata": {
    "collapsed": false,
    "deletable": true,
    "editable": true
   },
   "outputs": [
    {
     "name": "stdout",
     "output_type": "stream",
     "text": [
      ".   3 |  2   |6     \n",
      "9     |3 . 5 |    1 \n",
      "    1 |8   6 |4 .   \n",
      "------+------+------\n",
      "  . 8 |1   2 |9     \n",
      "7     |.     |    8 \n",
      "    6 |7   8 |2   . \n",
      "------+------+------\n",
      "    2 |6   9 |5     \n",
      "8   . |2   3 |    9 \n",
      "    5 |  1 . |3     \n"
     ]
    }
   ],
   "source": [
    "display(values)"
   ]
  },
  {
   "cell_type": "code",
   "execution_count": 38,
   "metadata": {
    "collapsed": true
   },
   "outputs": [],
   "source": [
    "import itertools"
   ]
  },
  {
   "cell_type": "code",
   "execution_count": 36,
   "metadata": {
    "collapsed": true
   },
   "outputs": [],
   "source": [
    "def naked_twins(values):\n",
    "    \"\"\"Eliminate values using the naked twins strategy.\n",
    "    Args:\n",
    "        values(dict): a dictionary of the form {'box_name': '123456789', ...}\n",
    "\n",
    "    Returns:\n",
    "        the values dictionary with the naked twins eliminated from peers.\n",
    "    \"\"\"\n",
    "\n",
    "    # Find all instances of naked twins\n",
    "    # Eliminate the naked twins as possibilities for their peers\n",
    "\n",
    "    # Naked twins: two boxes in same unit that have a pair of identical digits\n",
    "    # remaining as their only possibilities\n",
    "    for unit in unitlist:\n",
    "        # Find all boxes with two digits remaining as possibilities\n",
    "        pairs = [box for box in unit if len(values[box]) == 2]\n",
    "        # Pairwise combinations\n",
    "        poss_twins = [list(pair) for pair in itertools.combinations(pairs, 2)]\n",
    "        for pair in poss_twins:\n",
    "            box1 = pair[0]\n",
    "            box2 = pair[1]\n",
    "            # Find the naked twins\n",
    "            if values[box1] == values[box2]:\n",
    "                for box in unit:\n",
    "                    # Eliminate the naked twins as possibilities for peers\n",
    "                    if box != box1 and box != box2:\n",
    "                        for digit in values[box1]:\n",
    "                            values[box] = values[box].replace(digit,'')\n",
    "    return values"
   ]
  },
  {
   "cell_type": "code",
   "execution_count": 47,
   "metadata": {
    "collapsed": true
   },
   "outputs": [],
   "source": [
    "def grid_values(grid):\n",
    "    \"\"\"Convert grid string into {<box>: <value>} dict with '123456789' value for empties.\n",
    "\n",
    "    Args:\n",
    "        grid: Sudoku grid in string form, 81 characters long\n",
    "    Returns:\n",
    "        Sudoku grid in dictionary form:\n",
    "        - keys: Box labels, e.g. 'A1'\n",
    "        - values: Value in corresponding box, e.g. '8', or '123456789' if it is empty.\n",
    "    \"\"\"\n",
    "    values = []\n",
    "    all_digits = '123456789'\n",
    "    for c in grid:\n",
    "        if c == '.':\n",
    "            values.append(all_digits)\n",
    "        elif c in all_digits:\n",
    "            values.append(c)\n",
    "    assert len(values) == 81\n",
    "    return dict(zip(boxes, values))"
   ]
  },
  {
   "cell_type": "code",
   "execution_count": 155,
   "metadata": {
    "collapsed": true
   },
   "outputs": [],
   "source": [
    "before_naked_twins_1 = {'I6': '4', 'H9': '3', 'I2': '6', 'E8': '1', 'H3': '5', 'H7': '8', 'I7': '1', 'I4': '8',\n",
    "                            'H5': '6', 'F9': '7', 'G7': '6', 'G6': '3', 'G5': '2', 'E1': '8', 'G3': '1', 'G2': '8',\n",
    "                            'G1': '7', 'I1': '23', 'C8': '5', 'I3': '23', 'E5': '347', 'I5': '5', 'C9': '1', 'G9': '5',\n",
    "                            'G8': '4', 'A1': '1', 'A3': '4', 'A2': '237', 'A5': '9', 'A4': '2357', 'A7': '27',\n",
    "                            'A6': '257', 'C3': '8', 'C2': '237', 'C1': '23', 'E6': '579', 'C7': '9', 'C6': '6',\n",
    "                            'C5': '37', 'C4': '4', 'I9': '9', 'D8': '8', 'I8': '7', 'E4': '6', 'D9': '6', 'H8': '2',\n",
    "                            'F6': '125', 'A9': '8', 'G4': '9', 'A8': '6', 'E7': '345', 'E3': '379', 'F1': '6',\n",
    "                            'F2': '4', 'F3': '23', 'F4': '1235', 'F5': '8', 'E2': '37', 'F7': '35', 'F8': '9',\n",
    "                            'D2': '1', 'H1': '4', 'H6': '17', 'H2': '9', 'H4': '17', 'D3': '2379', 'B4': '27',\n",
    "                            'B5': '1', 'B6': '8', 'B7': '27', 'E9': '2', 'B1': '9', 'B2': '5', 'B3': '6', 'D6': '279',\n",
    "                            'D7': '34', 'D4': '237', 'D5': '347', 'B8': '3', 'B9': '4', 'D1': '5'}"
   ]
  },
  {
   "cell_type": "code",
   "execution_count": 146,
   "metadata": {
    "collapsed": false
   },
   "outputs": [
    {
     "name": "stdout",
     "output_type": "stream",
     "text": [
      "  1   237   4  | 2357  9   257 |  27   6    8  \n",
      "  9    5    6  |  27   1    8  |  27   3    4  \n",
      "  23  237   8  |  4    37   6  |  9    5    1  \n",
      "---------------+---------------+---------------\n",
      "  5    1   2379| 237  347  279 |  34   8    6  \n",
      "  8    37  379 |  6   347  579 | 345   1    2  \n",
      "  6    4    23 | 1235  8   125 |  35   9    7  \n",
      "---------------+---------------+---------------\n",
      "  7    8    1  |  9    2    3  |  6    4    5  \n",
      "  4    9    5  |  17   6    17 |  8    2    3  \n",
      "  23   6    23 |  8    5    4  |  1    7    9  \n"
     ]
    }
   ],
   "source": [
    "display(before_naked_twins_1)"
   ]
  },
  {
   "cell_type": "code",
   "execution_count": 69,
   "metadata": {
    "collapsed": false
   },
   "outputs": [
    {
     "name": "stdout",
     "output_type": "stream",
     "text": [
      "  1   237   4  | 2357  9   257 |  27   6    8  \n",
      "  9    5    6  |  27   1    8  |  27   3    4  \n",
      "  23  237   8  |  4    37   6  |  9    5    1  \n",
      "---------------+---------------+---------------\n",
      "  5    1    79 | 237  347  279 |  34   8    6  \n",
      "  8    3    79 |  6   347  579 | 345   1    2  \n",
      "  6    4    23 | 1235  8   125 |  35   9    7  \n",
      "---------------+---------------+---------------\n",
      "  7    8    1  |  9    2    3  |  6    4    5  \n",
      "  4    9    5  |  17   6    17 |  8    2    3  \n",
      "  23   6    23 |  8    5    4  |  1    7    9  \n"
     ]
    }
   ],
   "source": [
    "display(naked_twins(before_naked_twins_1))"
   ]
  },
  {
   "cell_type": "code",
   "execution_count": 77,
   "metadata": {
    "collapsed": true
   },
   "outputs": [],
   "source": [
    "import itertools\n",
    "\n",
    "def naked_twins(values):\n",
    "    \"\"\"Eliminate values using the naked twins strategy.\n",
    "    Args:\n",
    "        values(dict): a dictionary of the form {'box_name': '123456789', ...}\n",
    "\n",
    "    Returns:\n",
    "        the values dictionary with the naked twins eliminated from peers.\n",
    "    \"\"\"\n",
    "\n",
    "    # Find all instances of naked twins\n",
    "    # Eliminate the naked twins as possibilities for their peers\n",
    "    # Naked twins: two boxes in same unit that have a pair of identical digits\n",
    "    # remaining as their only possibilities\n",
    "    #iterate through each peerset in the unitlist\n",
    "    pairs = []\n",
    "    \n",
    "    for peerset in unitlist:\n",
    "        for box in peerset:\n",
    "            if len(values[box]) == 2:\n",
    "                pairs.append([box])\n",
    "                \n",
    "            pair_combos = list(itertools.combination(pairs, 2))\n",
    "                \n",
    "                "
   ]
  },
  {
   "cell_type": "code",
   "execution_count": 76,
   "metadata": {
    "collapsed": false
   },
   "outputs": [
    {
     "data": {
      "text/plain": [
       "[(1, 2), (1, 3), (1, 4), (2, 3), (2, 4), (3, 4)]"
      ]
     },
     "execution_count": 76,
     "metadata": {},
     "output_type": "execute_result"
    }
   ],
   "source": [
    "import itertools"
   ]
  },
  {
   "cell_type": "code",
   "execution_count": 85,
   "metadata": {
    "collapsed": false
   },
   "outputs": [],
   "source": []
  },
  {
   "cell_type": "code",
   "execution_count": 84,
   "metadata": {
    "collapsed": false
   },
   "outputs": [],
   "source": [
    "values = before_naked_twins_1"
   ]
  },
  {
   "cell_type": "code",
   "execution_count": 86,
   "metadata": {
    "collapsed": false
   },
   "outputs": [
    {
     "data": {
      "text/plain": [
       "[(['A7'], ['B4']),\n",
       " (['A7'], ['B7']),\n",
       " (['A7'], ['C1']),\n",
       " (['A7'], ['C5']),\n",
       " (['A7'], ['D7']),\n",
       " (['A7'], ['E2']),\n",
       " (['A7'], ['F3']),\n",
       " (['A7'], ['F7']),\n",
       " (['A7'], ['H4']),\n",
       " (['A7'], ['H6']),\n",
       " (['A7'], ['I1']),\n",
       " (['A7'], ['I3']),\n",
       " (['A7'], ['C1']),\n",
       " (['A7'], ['I1']),\n",
       " (['A7'], ['E2']),\n",
       " (['A7'], ['F3']),\n",
       " (['A7'], ['I3']),\n",
       " (['A7'], ['B4']),\n",
       " (['A7'], ['H4']),\n",
       " (['A7'], ['C5']),\n",
       " (['A7'], ['H6']),\n",
       " (['A7'], ['A7']),\n",
       " (['A7'], ['B7']),\n",
       " (['A7'], ['D7']),\n",
       " (['A7'], ['F7']),\n",
       " (['A7'], ['C1']),\n",
       " (['A7'], ['B4']),\n",
       " (['A7'], ['C5']),\n",
       " (['A7'], ['A7']),\n",
       " (['A7'], ['B7']),\n",
       " (['A7'], ['E2']),\n",
       " (['A7'], ['F3']),\n",
       " (['A7'], ['D7']),\n",
       " (['A7'], ['F7']),\n",
       " (['A7'], ['I1']),\n",
       " (['A7'], ['I3']),\n",
       " (['A7'], ['H4']),\n",
       " (['A7'], ['H6']),\n",
       " (['B4'], ['B7']),\n",
       " (['B4'], ['C1']),\n",
       " (['B4'], ['C5']),\n",
       " (['B4'], ['D7']),\n",
       " (['B4'], ['E2']),\n",
       " (['B4'], ['F3']),\n",
       " (['B4'], ['F7']),\n",
       " (['B4'], ['H4']),\n",
       " (['B4'], ['H6']),\n",
       " (['B4'], ['I1']),\n",
       " (['B4'], ['I3']),\n",
       " (['B4'], ['C1']),\n",
       " (['B4'], ['I1']),\n",
       " (['B4'], ['E2']),\n",
       " (['B4'], ['F3']),\n",
       " (['B4'], ['I3']),\n",
       " (['B4'], ['B4']),\n",
       " (['B4'], ['H4']),\n",
       " (['B4'], ['C5']),\n",
       " (['B4'], ['H6']),\n",
       " (['B4'], ['A7']),\n",
       " (['B4'], ['B7']),\n",
       " (['B4'], ['D7']),\n",
       " (['B4'], ['F7']),\n",
       " (['B4'], ['C1']),\n",
       " (['B4'], ['B4']),\n",
       " (['B4'], ['C5']),\n",
       " (['B4'], ['A7']),\n",
       " (['B4'], ['B7']),\n",
       " (['B4'], ['E2']),\n",
       " (['B4'], ['F3']),\n",
       " (['B4'], ['D7']),\n",
       " (['B4'], ['F7']),\n",
       " (['B4'], ['I1']),\n",
       " (['B4'], ['I3']),\n",
       " (['B4'], ['H4']),\n",
       " (['B4'], ['H6']),\n",
       " (['B7'], ['C1']),\n",
       " (['B7'], ['C5']),\n",
       " (['B7'], ['D7']),\n",
       " (['B7'], ['E2']),\n",
       " (['B7'], ['F3']),\n",
       " (['B7'], ['F7']),\n",
       " (['B7'], ['H4']),\n",
       " (['B7'], ['H6']),\n",
       " (['B7'], ['I1']),\n",
       " (['B7'], ['I3']),\n",
       " (['B7'], ['C1']),\n",
       " (['B7'], ['I1']),\n",
       " (['B7'], ['E2']),\n",
       " (['B7'], ['F3']),\n",
       " (['B7'], ['I3']),\n",
       " (['B7'], ['B4']),\n",
       " (['B7'], ['H4']),\n",
       " (['B7'], ['C5']),\n",
       " (['B7'], ['H6']),\n",
       " (['B7'], ['A7']),\n",
       " (['B7'], ['B7']),\n",
       " (['B7'], ['D7']),\n",
       " (['B7'], ['F7']),\n",
       " (['B7'], ['C1']),\n",
       " (['B7'], ['B4']),\n",
       " (['B7'], ['C5']),\n",
       " (['B7'], ['A7']),\n",
       " (['B7'], ['B7']),\n",
       " (['B7'], ['E2']),\n",
       " (['B7'], ['F3']),\n",
       " (['B7'], ['D7']),\n",
       " (['B7'], ['F7']),\n",
       " (['B7'], ['I1']),\n",
       " (['B7'], ['I3']),\n",
       " (['B7'], ['H4']),\n",
       " (['B7'], ['H6']),\n",
       " (['C1'], ['C5']),\n",
       " (['C1'], ['D7']),\n",
       " (['C1'], ['E2']),\n",
       " (['C1'], ['F3']),\n",
       " (['C1'], ['F7']),\n",
       " (['C1'], ['H4']),\n",
       " (['C1'], ['H6']),\n",
       " (['C1'], ['I1']),\n",
       " (['C1'], ['I3']),\n",
       " (['C1'], ['C1']),\n",
       " (['C1'], ['I1']),\n",
       " (['C1'], ['E2']),\n",
       " (['C1'], ['F3']),\n",
       " (['C1'], ['I3']),\n",
       " (['C1'], ['B4']),\n",
       " (['C1'], ['H4']),\n",
       " (['C1'], ['C5']),\n",
       " (['C1'], ['H6']),\n",
       " (['C1'], ['A7']),\n",
       " (['C1'], ['B7']),\n",
       " (['C1'], ['D7']),\n",
       " (['C1'], ['F7']),\n",
       " (['C1'], ['C1']),\n",
       " (['C1'], ['B4']),\n",
       " (['C1'], ['C5']),\n",
       " (['C1'], ['A7']),\n",
       " (['C1'], ['B7']),\n",
       " (['C1'], ['E2']),\n",
       " (['C1'], ['F3']),\n",
       " (['C1'], ['D7']),\n",
       " (['C1'], ['F7']),\n",
       " (['C1'], ['I1']),\n",
       " (['C1'], ['I3']),\n",
       " (['C1'], ['H4']),\n",
       " (['C1'], ['H6']),\n",
       " (['C5'], ['D7']),\n",
       " (['C5'], ['E2']),\n",
       " (['C5'], ['F3']),\n",
       " (['C5'], ['F7']),\n",
       " (['C5'], ['H4']),\n",
       " (['C5'], ['H6']),\n",
       " (['C5'], ['I1']),\n",
       " (['C5'], ['I3']),\n",
       " (['C5'], ['C1']),\n",
       " (['C5'], ['I1']),\n",
       " (['C5'], ['E2']),\n",
       " (['C5'], ['F3']),\n",
       " (['C5'], ['I3']),\n",
       " (['C5'], ['B4']),\n",
       " (['C5'], ['H4']),\n",
       " (['C5'], ['C5']),\n",
       " (['C5'], ['H6']),\n",
       " (['C5'], ['A7']),\n",
       " (['C5'], ['B7']),\n",
       " (['C5'], ['D7']),\n",
       " (['C5'], ['F7']),\n",
       " (['C5'], ['C1']),\n",
       " (['C5'], ['B4']),\n",
       " (['C5'], ['C5']),\n",
       " (['C5'], ['A7']),\n",
       " (['C5'], ['B7']),\n",
       " (['C5'], ['E2']),\n",
       " (['C5'], ['F3']),\n",
       " (['C5'], ['D7']),\n",
       " (['C5'], ['F7']),\n",
       " (['C5'], ['I1']),\n",
       " (['C5'], ['I3']),\n",
       " (['C5'], ['H4']),\n",
       " (['C5'], ['H6']),\n",
       " (['D7'], ['E2']),\n",
       " (['D7'], ['F3']),\n",
       " (['D7'], ['F7']),\n",
       " (['D7'], ['H4']),\n",
       " (['D7'], ['H6']),\n",
       " (['D7'], ['I1']),\n",
       " (['D7'], ['I3']),\n",
       " (['D7'], ['C1']),\n",
       " (['D7'], ['I1']),\n",
       " (['D7'], ['E2']),\n",
       " (['D7'], ['F3']),\n",
       " (['D7'], ['I3']),\n",
       " (['D7'], ['B4']),\n",
       " (['D7'], ['H4']),\n",
       " (['D7'], ['C5']),\n",
       " (['D7'], ['H6']),\n",
       " (['D7'], ['A7']),\n",
       " (['D7'], ['B7']),\n",
       " (['D7'], ['D7']),\n",
       " (['D7'], ['F7']),\n",
       " (['D7'], ['C1']),\n",
       " (['D7'], ['B4']),\n",
       " (['D7'], ['C5']),\n",
       " (['D7'], ['A7']),\n",
       " (['D7'], ['B7']),\n",
       " (['D7'], ['E2']),\n",
       " (['D7'], ['F3']),\n",
       " (['D7'], ['D7']),\n",
       " (['D7'], ['F7']),\n",
       " (['D7'], ['I1']),\n",
       " (['D7'], ['I3']),\n",
       " (['D7'], ['H4']),\n",
       " (['D7'], ['H6']),\n",
       " (['E2'], ['F3']),\n",
       " (['E2'], ['F7']),\n",
       " (['E2'], ['H4']),\n",
       " (['E2'], ['H6']),\n",
       " (['E2'], ['I1']),\n",
       " (['E2'], ['I3']),\n",
       " (['E2'], ['C1']),\n",
       " (['E2'], ['I1']),\n",
       " (['E2'], ['E2']),\n",
       " (['E2'], ['F3']),\n",
       " (['E2'], ['I3']),\n",
       " (['E2'], ['B4']),\n",
       " (['E2'], ['H4']),\n",
       " (['E2'], ['C5']),\n",
       " (['E2'], ['H6']),\n",
       " (['E2'], ['A7']),\n",
       " (['E2'], ['B7']),\n",
       " (['E2'], ['D7']),\n",
       " (['E2'], ['F7']),\n",
       " (['E2'], ['C1']),\n",
       " (['E2'], ['B4']),\n",
       " (['E2'], ['C5']),\n",
       " (['E2'], ['A7']),\n",
       " (['E2'], ['B7']),\n",
       " (['E2'], ['E2']),\n",
       " (['E2'], ['F3']),\n",
       " (['E2'], ['D7']),\n",
       " (['E2'], ['F7']),\n",
       " (['E2'], ['I1']),\n",
       " (['E2'], ['I3']),\n",
       " (['E2'], ['H4']),\n",
       " (['E2'], ['H6']),\n",
       " (['F3'], ['F7']),\n",
       " (['F3'], ['H4']),\n",
       " (['F3'], ['H6']),\n",
       " (['F3'], ['I1']),\n",
       " (['F3'], ['I3']),\n",
       " (['F3'], ['C1']),\n",
       " (['F3'], ['I1']),\n",
       " (['F3'], ['E2']),\n",
       " (['F3'], ['F3']),\n",
       " (['F3'], ['I3']),\n",
       " (['F3'], ['B4']),\n",
       " (['F3'], ['H4']),\n",
       " (['F3'], ['C5']),\n",
       " (['F3'], ['H6']),\n",
       " (['F3'], ['A7']),\n",
       " (['F3'], ['B7']),\n",
       " (['F3'], ['D7']),\n",
       " (['F3'], ['F7']),\n",
       " (['F3'], ['C1']),\n",
       " (['F3'], ['B4']),\n",
       " (['F3'], ['C5']),\n",
       " (['F3'], ['A7']),\n",
       " (['F3'], ['B7']),\n",
       " (['F3'], ['E2']),\n",
       " (['F3'], ['F3']),\n",
       " (['F3'], ['D7']),\n",
       " (['F3'], ['F7']),\n",
       " (['F3'], ['I1']),\n",
       " (['F3'], ['I3']),\n",
       " (['F3'], ['H4']),\n",
       " (['F3'], ['H6']),\n",
       " (['F7'], ['H4']),\n",
       " (['F7'], ['H6']),\n",
       " (['F7'], ['I1']),\n",
       " (['F7'], ['I3']),\n",
       " (['F7'], ['C1']),\n",
       " (['F7'], ['I1']),\n",
       " (['F7'], ['E2']),\n",
       " (['F7'], ['F3']),\n",
       " (['F7'], ['I3']),\n",
       " (['F7'], ['B4']),\n",
       " (['F7'], ['H4']),\n",
       " (['F7'], ['C5']),\n",
       " (['F7'], ['H6']),\n",
       " (['F7'], ['A7']),\n",
       " (['F7'], ['B7']),\n",
       " (['F7'], ['D7']),\n",
       " (['F7'], ['F7']),\n",
       " (['F7'], ['C1']),\n",
       " (['F7'], ['B4']),\n",
       " (['F7'], ['C5']),\n",
       " (['F7'], ['A7']),\n",
       " (['F7'], ['B7']),\n",
       " (['F7'], ['E2']),\n",
       " (['F7'], ['F3']),\n",
       " (['F7'], ['D7']),\n",
       " (['F7'], ['F7']),\n",
       " (['F7'], ['I1']),\n",
       " (['F7'], ['I3']),\n",
       " (['F7'], ['H4']),\n",
       " (['F7'], ['H6']),\n",
       " (['H4'], ['H6']),\n",
       " (['H4'], ['I1']),\n",
       " (['H4'], ['I3']),\n",
       " (['H4'], ['C1']),\n",
       " (['H4'], ['I1']),\n",
       " (['H4'], ['E2']),\n",
       " (['H4'], ['F3']),\n",
       " (['H4'], ['I3']),\n",
       " (['H4'], ['B4']),\n",
       " (['H4'], ['H4']),\n",
       " (['H4'], ['C5']),\n",
       " (['H4'], ['H6']),\n",
       " (['H4'], ['A7']),\n",
       " (['H4'], ['B7']),\n",
       " (['H4'], ['D7']),\n",
       " (['H4'], ['F7']),\n",
       " (['H4'], ['C1']),\n",
       " (['H4'], ['B4']),\n",
       " (['H4'], ['C5']),\n",
       " (['H4'], ['A7']),\n",
       " (['H4'], ['B7']),\n",
       " (['H4'], ['E2']),\n",
       " (['H4'], ['F3']),\n",
       " (['H4'], ['D7']),\n",
       " (['H4'], ['F7']),\n",
       " (['H4'], ['I1']),\n",
       " (['H4'], ['I3']),\n",
       " (['H4'], ['H4']),\n",
       " (['H4'], ['H6']),\n",
       " (['H6'], ['I1']),\n",
       " (['H6'], ['I3']),\n",
       " (['H6'], ['C1']),\n",
       " (['H6'], ['I1']),\n",
       " (['H6'], ['E2']),\n",
       " (['H6'], ['F3']),\n",
       " (['H6'], ['I3']),\n",
       " (['H6'], ['B4']),\n",
       " (['H6'], ['H4']),\n",
       " (['H6'], ['C5']),\n",
       " (['H6'], ['H6']),\n",
       " (['H6'], ['A7']),\n",
       " (['H6'], ['B7']),\n",
       " (['H6'], ['D7']),\n",
       " (['H6'], ['F7']),\n",
       " (['H6'], ['C1']),\n",
       " (['H6'], ['B4']),\n",
       " (['H6'], ['C5']),\n",
       " (['H6'], ['A7']),\n",
       " (['H6'], ['B7']),\n",
       " (['H6'], ['E2']),\n",
       " (['H6'], ['F3']),\n",
       " (['H6'], ['D7']),\n",
       " (['H6'], ['F7']),\n",
       " (['H6'], ['I1']),\n",
       " (['H6'], ['I3']),\n",
       " (['H6'], ['H4']),\n",
       " (['H6'], ['H6']),\n",
       " (['I1'], ['I3']),\n",
       " (['I1'], ['C1']),\n",
       " (['I1'], ['I1']),\n",
       " (['I1'], ['E2']),\n",
       " (['I1'], ['F3']),\n",
       " (['I1'], ['I3']),\n",
       " (['I1'], ['B4']),\n",
       " (['I1'], ['H4']),\n",
       " (['I1'], ['C5']),\n",
       " (['I1'], ['H6']),\n",
       " (['I1'], ['A7']),\n",
       " (['I1'], ['B7']),\n",
       " (['I1'], ['D7']),\n",
       " (['I1'], ['F7']),\n",
       " (['I1'], ['C1']),\n",
       " (['I1'], ['B4']),\n",
       " (['I1'], ['C5']),\n",
       " (['I1'], ['A7']),\n",
       " (['I1'], ['B7']),\n",
       " (['I1'], ['E2']),\n",
       " (['I1'], ['F3']),\n",
       " (['I1'], ['D7']),\n",
       " (['I1'], ['F7']),\n",
       " (['I1'], ['I1']),\n",
       " (['I1'], ['I3']),\n",
       " (['I1'], ['H4']),\n",
       " (['I1'], ['H6']),\n",
       " (['I3'], ['C1']),\n",
       " (['I3'], ['I1']),\n",
       " (['I3'], ['E2']),\n",
       " (['I3'], ['F3']),\n",
       " (['I3'], ['I3']),\n",
       " (['I3'], ['B4']),\n",
       " (['I3'], ['H4']),\n",
       " (['I3'], ['C5']),\n",
       " (['I3'], ['H6']),\n",
       " (['I3'], ['A7']),\n",
       " (['I3'], ['B7']),\n",
       " (['I3'], ['D7']),\n",
       " (['I3'], ['F7']),\n",
       " (['I3'], ['C1']),\n",
       " (['I3'], ['B4']),\n",
       " (['I3'], ['C5']),\n",
       " (['I3'], ['A7']),\n",
       " (['I3'], ['B7']),\n",
       " (['I3'], ['E2']),\n",
       " (['I3'], ['F3']),\n",
       " (['I3'], ['D7']),\n",
       " (['I3'], ['F7']),\n",
       " (['I3'], ['I1']),\n",
       " (['I3'], ['I3']),\n",
       " (['I3'], ['H4']),\n",
       " (['I3'], ['H6']),\n",
       " (['C1'], ['I1']),\n",
       " (['C1'], ['E2']),\n",
       " (['C1'], ['F3']),\n",
       " (['C1'], ['I3']),\n",
       " (['C1'], ['B4']),\n",
       " (['C1'], ['H4']),\n",
       " (['C1'], ['C5']),\n",
       " (['C1'], ['H6']),\n",
       " (['C1'], ['A7']),\n",
       " (['C1'], ['B7']),\n",
       " (['C1'], ['D7']),\n",
       " (['C1'], ['F7']),\n",
       " (['C1'], ['C1']),\n",
       " (['C1'], ['B4']),\n",
       " (['C1'], ['C5']),\n",
       " (['C1'], ['A7']),\n",
       " (['C1'], ['B7']),\n",
       " (['C1'], ['E2']),\n",
       " (['C1'], ['F3']),\n",
       " (['C1'], ['D7']),\n",
       " (['C1'], ['F7']),\n",
       " (['C1'], ['I1']),\n",
       " (['C1'], ['I3']),\n",
       " (['C1'], ['H4']),\n",
       " (['C1'], ['H6']),\n",
       " (['I1'], ['E2']),\n",
       " (['I1'], ['F3']),\n",
       " (['I1'], ['I3']),\n",
       " (['I1'], ['B4']),\n",
       " (['I1'], ['H4']),\n",
       " (['I1'], ['C5']),\n",
       " (['I1'], ['H6']),\n",
       " (['I1'], ['A7']),\n",
       " (['I1'], ['B7']),\n",
       " (['I1'], ['D7']),\n",
       " (['I1'], ['F7']),\n",
       " (['I1'], ['C1']),\n",
       " (['I1'], ['B4']),\n",
       " (['I1'], ['C5']),\n",
       " (['I1'], ['A7']),\n",
       " (['I1'], ['B7']),\n",
       " (['I1'], ['E2']),\n",
       " (['I1'], ['F3']),\n",
       " (['I1'], ['D7']),\n",
       " (['I1'], ['F7']),\n",
       " (['I1'], ['I1']),\n",
       " (['I1'], ['I3']),\n",
       " (['I1'], ['H4']),\n",
       " (['I1'], ['H6']),\n",
       " (['E2'], ['F3']),\n",
       " (['E2'], ['I3']),\n",
       " (['E2'], ['B4']),\n",
       " (['E2'], ['H4']),\n",
       " (['E2'], ['C5']),\n",
       " (['E2'], ['H6']),\n",
       " (['E2'], ['A7']),\n",
       " (['E2'], ['B7']),\n",
       " (['E2'], ['D7']),\n",
       " (['E2'], ['F7']),\n",
       " (['E2'], ['C1']),\n",
       " (['E2'], ['B4']),\n",
       " (['E2'], ['C5']),\n",
       " (['E2'], ['A7']),\n",
       " (['E2'], ['B7']),\n",
       " (['E2'], ['E2']),\n",
       " (['E2'], ['F3']),\n",
       " (['E2'], ['D7']),\n",
       " (['E2'], ['F7']),\n",
       " (['E2'], ['I1']),\n",
       " (['E2'], ['I3']),\n",
       " (['E2'], ['H4']),\n",
       " (['E2'], ['H6']),\n",
       " (['F3'], ['I3']),\n",
       " (['F3'], ['B4']),\n",
       " (['F3'], ['H4']),\n",
       " (['F3'], ['C5']),\n",
       " (['F3'], ['H6']),\n",
       " (['F3'], ['A7']),\n",
       " (['F3'], ['B7']),\n",
       " (['F3'], ['D7']),\n",
       " (['F3'], ['F7']),\n",
       " (['F3'], ['C1']),\n",
       " (['F3'], ['B4']),\n",
       " (['F3'], ['C5']),\n",
       " (['F3'], ['A7']),\n",
       " (['F3'], ['B7']),\n",
       " (['F3'], ['E2']),\n",
       " (['F3'], ['F3']),\n",
       " (['F3'], ['D7']),\n",
       " (['F3'], ['F7']),\n",
       " (['F3'], ['I1']),\n",
       " (['F3'], ['I3']),\n",
       " (['F3'], ['H4']),\n",
       " (['F3'], ['H6']),\n",
       " (['I3'], ['B4']),\n",
       " (['I3'], ['H4']),\n",
       " (['I3'], ['C5']),\n",
       " (['I3'], ['H6']),\n",
       " (['I3'], ['A7']),\n",
       " (['I3'], ['B7']),\n",
       " (['I3'], ['D7']),\n",
       " (['I3'], ['F7']),\n",
       " (['I3'], ['C1']),\n",
       " (['I3'], ['B4']),\n",
       " (['I3'], ['C5']),\n",
       " (['I3'], ['A7']),\n",
       " (['I3'], ['B7']),\n",
       " (['I3'], ['E2']),\n",
       " (['I3'], ['F3']),\n",
       " (['I3'], ['D7']),\n",
       " (['I3'], ['F7']),\n",
       " (['I3'], ['I1']),\n",
       " (['I3'], ['I3']),\n",
       " (['I3'], ['H4']),\n",
       " (['I3'], ['H6']),\n",
       " (['B4'], ['H4']),\n",
       " (['B4'], ['C5']),\n",
       " (['B4'], ['H6']),\n",
       " (['B4'], ['A7']),\n",
       " (['B4'], ['B7']),\n",
       " (['B4'], ['D7']),\n",
       " (['B4'], ['F7']),\n",
       " (['B4'], ['C1']),\n",
       " (['B4'], ['B4']),\n",
       " (['B4'], ['C5']),\n",
       " (['B4'], ['A7']),\n",
       " (['B4'], ['B7']),\n",
       " (['B4'], ['E2']),\n",
       " (['B4'], ['F3']),\n",
       " (['B4'], ['D7']),\n",
       " (['B4'], ['F7']),\n",
       " (['B4'], ['I1']),\n",
       " (['B4'], ['I3']),\n",
       " (['B4'], ['H4']),\n",
       " (['B4'], ['H6']),\n",
       " (['H4'], ['C5']),\n",
       " (['H4'], ['H6']),\n",
       " (['H4'], ['A7']),\n",
       " (['H4'], ['B7']),\n",
       " (['H4'], ['D7']),\n",
       " (['H4'], ['F7']),\n",
       " (['H4'], ['C1']),\n",
       " (['H4'], ['B4']),\n",
       " (['H4'], ['C5']),\n",
       " (['H4'], ['A7']),\n",
       " (['H4'], ['B7']),\n",
       " (['H4'], ['E2']),\n",
       " (['H4'], ['F3']),\n",
       " (['H4'], ['D7']),\n",
       " (['H4'], ['F7']),\n",
       " (['H4'], ['I1']),\n",
       " (['H4'], ['I3']),\n",
       " (['H4'], ['H4']),\n",
       " (['H4'], ['H6']),\n",
       " (['C5'], ['H6']),\n",
       " (['C5'], ['A7']),\n",
       " (['C5'], ['B7']),\n",
       " (['C5'], ['D7']),\n",
       " (['C5'], ['F7']),\n",
       " (['C5'], ['C1']),\n",
       " (['C5'], ['B4']),\n",
       " (['C5'], ['C5']),\n",
       " (['C5'], ['A7']),\n",
       " (['C5'], ['B7']),\n",
       " (['C5'], ['E2']),\n",
       " (['C5'], ['F3']),\n",
       " (['C5'], ['D7']),\n",
       " (['C5'], ['F7']),\n",
       " (['C5'], ['I1']),\n",
       " (['C5'], ['I3']),\n",
       " (['C5'], ['H4']),\n",
       " (['C5'], ['H6']),\n",
       " (['H6'], ['A7']),\n",
       " (['H6'], ['B7']),\n",
       " (['H6'], ['D7']),\n",
       " (['H6'], ['F7']),\n",
       " (['H6'], ['C1']),\n",
       " (['H6'], ['B4']),\n",
       " (['H6'], ['C5']),\n",
       " (['H6'], ['A7']),\n",
       " (['H6'], ['B7']),\n",
       " (['H6'], ['E2']),\n",
       " (['H6'], ['F3']),\n",
       " (['H6'], ['D7']),\n",
       " (['H6'], ['F7']),\n",
       " (['H6'], ['I1']),\n",
       " (['H6'], ['I3']),\n",
       " (['H6'], ['H4']),\n",
       " (['H6'], ['H6']),\n",
       " (['A7'], ['B7']),\n",
       " (['A7'], ['D7']),\n",
       " (['A7'], ['F7']),\n",
       " (['A7'], ['C1']),\n",
       " (['A7'], ['B4']),\n",
       " (['A7'], ['C5']),\n",
       " (['A7'], ['A7']),\n",
       " (['A7'], ['B7']),\n",
       " (['A7'], ['E2']),\n",
       " (['A7'], ['F3']),\n",
       " (['A7'], ['D7']),\n",
       " (['A7'], ['F7']),\n",
       " (['A7'], ['I1']),\n",
       " (['A7'], ['I3']),\n",
       " (['A7'], ['H4']),\n",
       " (['A7'], ['H6']),\n",
       " (['B7'], ['D7']),\n",
       " (['B7'], ['F7']),\n",
       " (['B7'], ['C1']),\n",
       " (['B7'], ['B4']),\n",
       " (['B7'], ['C5']),\n",
       " (['B7'], ['A7']),\n",
       " (['B7'], ['B7']),\n",
       " (['B7'], ['E2']),\n",
       " (['B7'], ['F3']),\n",
       " (['B7'], ['D7']),\n",
       " (['B7'], ['F7']),\n",
       " (['B7'], ['I1']),\n",
       " (['B7'], ['I3']),\n",
       " (['B7'], ['H4']),\n",
       " (['B7'], ['H6']),\n",
       " (['D7'], ['F7']),\n",
       " (['D7'], ['C1']),\n",
       " (['D7'], ['B4']),\n",
       " (['D7'], ['C5']),\n",
       " (['D7'], ['A7']),\n",
       " (['D7'], ['B7']),\n",
       " (['D7'], ['E2']),\n",
       " (['D7'], ['F3']),\n",
       " (['D7'], ['D7']),\n",
       " (['D7'], ['F7']),\n",
       " (['D7'], ['I1']),\n",
       " (['D7'], ['I3']),\n",
       " (['D7'], ['H4']),\n",
       " (['D7'], ['H6']),\n",
       " (['F7'], ['C1']),\n",
       " (['F7'], ['B4']),\n",
       " (['F7'], ['C5']),\n",
       " (['F7'], ['A7']),\n",
       " (['F7'], ['B7']),\n",
       " (['F7'], ['E2']),\n",
       " (['F7'], ['F3']),\n",
       " (['F7'], ['D7']),\n",
       " (['F7'], ['F7']),\n",
       " (['F7'], ['I1']),\n",
       " (['F7'], ['I3']),\n",
       " (['F7'], ['H4']),\n",
       " (['F7'], ['H6']),\n",
       " (['C1'], ['B4']),\n",
       " (['C1'], ['C5']),\n",
       " (['C1'], ['A7']),\n",
       " (['C1'], ['B7']),\n",
       " (['C1'], ['E2']),\n",
       " (['C1'], ['F3']),\n",
       " (['C1'], ['D7']),\n",
       " (['C1'], ['F7']),\n",
       " (['C1'], ['I1']),\n",
       " (['C1'], ['I3']),\n",
       " (['C1'], ['H4']),\n",
       " (['C1'], ['H6']),\n",
       " (['B4'], ['C5']),\n",
       " (['B4'], ['A7']),\n",
       " (['B4'], ['B7']),\n",
       " (['B4'], ['E2']),\n",
       " (['B4'], ['F3']),\n",
       " (['B4'], ['D7']),\n",
       " (['B4'], ['F7']),\n",
       " (['B4'], ['I1']),\n",
       " (['B4'], ['I3']),\n",
       " (['B4'], ['H4']),\n",
       " (['B4'], ['H6']),\n",
       " (['C5'], ['A7']),\n",
       " (['C5'], ['B7']),\n",
       " (['C5'], ['E2']),\n",
       " (['C5'], ['F3']),\n",
       " (['C5'], ['D7']),\n",
       " (['C5'], ['F7']),\n",
       " (['C5'], ['I1']),\n",
       " (['C5'], ['I3']),\n",
       " (['C5'], ['H4']),\n",
       " (['C5'], ['H6']),\n",
       " (['A7'], ['B7']),\n",
       " (['A7'], ['E2']),\n",
       " (['A7'], ['F3']),\n",
       " (['A7'], ['D7']),\n",
       " (['A7'], ['F7']),\n",
       " (['A7'], ['I1']),\n",
       " (['A7'], ['I3']),\n",
       " (['A7'], ['H4']),\n",
       " (['A7'], ['H6']),\n",
       " (['B7'], ['E2']),\n",
       " (['B7'], ['F3']),\n",
       " (['B7'], ['D7']),\n",
       " (['B7'], ['F7']),\n",
       " (['B7'], ['I1']),\n",
       " (['B7'], ['I3']),\n",
       " (['B7'], ['H4']),\n",
       " (['B7'], ['H6']),\n",
       " (['E2'], ['F3']),\n",
       " (['E2'], ['D7']),\n",
       " (['E2'], ['F7']),\n",
       " (['E2'], ['I1']),\n",
       " (['E2'], ['I3']),\n",
       " (['E2'], ['H4']),\n",
       " (['E2'], ['H6']),\n",
       " (['F3'], ['D7']),\n",
       " (['F3'], ['F7']),\n",
       " (['F3'], ['I1']),\n",
       " (['F3'], ['I3']),\n",
       " (['F3'], ['H4']),\n",
       " (['F3'], ['H6']),\n",
       " (['D7'], ['F7']),\n",
       " (['D7'], ['I1']),\n",
       " (['D7'], ['I3']),\n",
       " (['D7'], ['H4']),\n",
       " (['D7'], ['H6']),\n",
       " (['F7'], ['I1']),\n",
       " (['F7'], ['I3']),\n",
       " (['F7'], ['H4']),\n",
       " (['F7'], ['H6']),\n",
       " (['I1'], ['I3']),\n",
       " (['I1'], ['H4']),\n",
       " (['I1'], ['H6']),\n",
       " (['I3'], ['H4']),\n",
       " (['I3'], ['H6']),\n",
       " (['H4'], ['H6'])]"
      ]
     },
     "execution_count": 86,
     "metadata": {},
     "output_type": "execute_result"
    }
   ],
   "source": [
    "pair_combos"
   ]
  },
  {
   "cell_type": "code",
   "execution_count": 130,
   "metadata": {
    "collapsed": false
   },
   "outputs": [],
   "source": [
    "values = dict(zip(unitlist[0], [str(i) for i in [23,23,1423,4,5,6,7,8,9]]))"
   ]
  },
  {
   "cell_type": "code",
   "execution_count": null,
   "metadata": {
    "collapsed": true
   },
   "outputs": [],
   "source": []
  },
  {
   "cell_type": "code",
   "execution_count": 117,
   "metadata": {
    "collapsed": false
   },
   "outputs": [],
   "source": [
    "peerset = list(values.keys())"
   ]
  },
  {
   "cell_type": "code",
   "execution_count": 118,
   "metadata": {
    "collapsed": false
   },
   "outputs": [
    {
     "data": {
      "text/plain": [
       "{'A1': '23',\n",
       " 'A2': '23',\n",
       " 'A3': '1423',\n",
       " 'A4': '4',\n",
       " 'A5': '5',\n",
       " 'A6': '6',\n",
       " 'A7': '7',\n",
       " 'A8': '8',\n",
       " 'A9': '9'}"
      ]
     },
     "execution_count": 118,
     "metadata": {},
     "output_type": "execute_result"
    }
   ],
   "source": [
    "values"
   ]
  },
  {
   "cell_type": "code",
   "execution_count": 153,
   "metadata": {
    "collapsed": false
   },
   "outputs": [],
   "source": [
    "import itertools\n",
    "def naked_twins(values):\n",
    "    \"\"\"Eliminate values using the naked twins strategy.\n",
    "    Args:\n",
    "        values(dict): a dictionary of the form {'box_name': '123456789', ...}\n",
    "\n",
    "    Returns:\n",
    "        the values dictionary with the naked twins eliminated from peers.\n",
    "    \"\"\"\n",
    "\n",
    "    # Find all instances of naked twins\n",
    "    # Eliminate the naked twins as possibilities for their peers\n",
    "    # Naked twins: two boxes in same unit that have a pair of identical digits\n",
    "    # remaining as their only possibilities\n",
    "    #iterate through each peerset in the unitlist\n",
    "    \n",
    "    for peerset in unitlist:\n",
    "        pairs = []\n",
    "        for box in peerset: #iterate through all the boxes in each peer\n",
    "            if len(values[box]) == 2: #if the length of the value in that box is 2\n",
    "                pairs.append(box) #add it to the list of potential pairs\n",
    "\n",
    "        pair_combos = list(itertools.combinations(pairs, 2))  #find all the permutation of pair combinations\n",
    "\n",
    "        for combo in pair_combos:\n",
    "            pair1 = values[combo[0]]\n",
    "            pair2 = values[combo[1]]\n",
    "\n",
    "            if pair1 == pair2: #identify naked twins because finding the pair combinations that match\n",
    "                for box in peerset: #if they match, they iterate through the peerset again\n",
    "                    if box != combo[0] and box != combo[1]:  #ignoring the boxes that match the ones of the peers\n",
    "                        for digit in values[combo[0]]: #and remove the digits of the naked twins.\n",
    "                            values[box] = values[box].replace(digit, '')\n",
    "    return values"
   ]
  },
  {
   "cell_type": "code",
   "execution_count": 156,
   "metadata": {
    "collapsed": false
   },
   "outputs": [
    {
     "name": "stdout",
     "output_type": "stream",
     "text": [
      "  1   237   4  | 2357  9   257 |  27   6    8  \n",
      "  9    5    6  |  27   1    8  |  27   3    4  \n",
      "  23  237   8  |  4    37   6  |  9    5    1  \n",
      "---------------+---------------+---------------\n",
      "  5    1   2379| 237  347  279 |  34   8    6  \n",
      "  8    37  379 |  6   347  579 | 345   1    2  \n",
      "  6    4    23 | 1235  8   125 |  35   9    7  \n",
      "---------------+---------------+---------------\n",
      "  7    8    1  |  9    2    3  |  6    4    5  \n",
      "  4    9    5  |  17   6    17 |  8    2    3  \n",
      "  23   6    23 |  8    5    4  |  1    7    9  \n"
     ]
    }
   ],
   "source": [
    "display(before_naked_twins_1)"
   ]
  },
  {
   "cell_type": "code",
   "execution_count": 158,
   "metadata": {
    "collapsed": false
   },
   "outputs": [
    {
     "name": "stdout",
     "output_type": "stream",
     "text": [
      "  1   237   4  | 2357  9   257 |  27   6    8  \n",
      "  9    5    6  |  27   1    8  |  27   3    4  \n",
      "  23  237   8  |  4    37   6  |  9    5    1  \n",
      "---------------+---------------+---------------\n",
      "  5    1    79 | 237  347  279 |  34   8    6  \n",
      "  8    3    79 |  6   347  579 | 345   1    2  \n",
      "  6    4    23 | 1235  8   125 |  35   9    7  \n",
      "---------------+---------------+---------------\n",
      "  7    8    1  |  9    2    3  |  6    4    5  \n",
      "  4    9    5  |  17   6    17 |  8    2    3  \n",
      "  23   6    23 |  8    5    4  |  1    7    9  \n"
     ]
    }
   ],
   "source": [
    "display(naked_twins(before_naked_twins_1))"
   ]
  },
  {
   "cell_type": "code",
   "execution_count": null,
   "metadata": {
    "collapsed": true
   },
   "outputs": [],
   "source": []
  }
 ],
 "metadata": {
  "kernelspec": {
   "display_name": "Python 3",
   "language": "python",
   "name": "python3"
  },
  "language_info": {
   "codemirror_mode": {
    "name": "ipython",
    "version": 3
   },
   "file_extension": ".py",
   "mimetype": "text/x-python",
   "name": "python",
   "nbconvert_exporter": "python",
   "pygments_lexer": "ipython3",
   "version": "3.6.0"
  }
 },
 "nbformat": 4,
 "nbformat_minor": 2
}
