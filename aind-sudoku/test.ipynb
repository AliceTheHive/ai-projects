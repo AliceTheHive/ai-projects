{
 "cells": [
  {
   "cell_type": "code",
   "execution_count": 30,
   "metadata": {
    "collapsed": true,
    "deletable": true,
    "editable": true
   },
   "outputs": [],
   "source": [
    "import solution"
   ]
  },
  {
   "cell_type": "code",
   "execution_count": 31,
   "metadata": {
    "collapsed": true,
    "deletable": true,
    "editable": true
   },
   "outputs": [],
   "source": [
    "diagonal_grid = '2.............62....1....7...6..8...3...9...7...6..4...4....8....52.............3'"
   ]
  },
  {
   "cell_type": "code",
   "execution_count": 32,
   "metadata": {
    "collapsed": true,
    "deletable": true,
    "editable": true
   },
   "outputs": [],
   "source": [
    "solution.solve(diagonal_grid)"
   ]
  },
  {
   "cell_type": "code",
   "execution_count": 33,
   "metadata": {
    "collapsed": false,
    "deletable": true,
    "editable": true
   },
   "outputs": [
    {
     "data": {
      "text/plain": [
       "'2.............62....1....7...6..8...3...9...7...6..4...4....8....52.............3'"
      ]
     },
     "execution_count": 33,
     "metadata": {},
     "output_type": "execute_result"
    }
   ],
   "source": [
    "diagonal_grid"
   ]
  },
  {
   "cell_type": "code",
   "execution_count": 88,
   "metadata": {
    "collapsed": true,
    "deletable": true,
    "editable": true
   },
   "outputs": [],
   "source": [
    "rows = 'ABCDEFGHI'\n",
    "cols = '123456789'\n",
    "\n",
    "def cross(a, b):\n",
    "    return [s+t for s in a for t in b]\n",
    "\n",
    "\n",
    "boxes = cross(rows, cols)\n",
    "\n",
    "row_units = [cross(r, cols) for r in rows]\n",
    "column_units = [cross(rows, c) for c in cols]\n",
    "square_units = [cross(rs, cs) for rs in ('ABC','DEF','GHI') for cs in ('123','456','789')]\n",
    "unitlist = row_units + column_units + square_units\n",
    "units = dict((s, [u for u in unitlist if s in u]) for s in boxes)\n",
    "peers = dict((s, set(sum(units[s],[]))-set([s])) for s in boxes)\n",
    "\n",
    "\n",
    "def display(values):\n",
    "    \"\"\"\n",
    "    Display the values as a 2-D grid.\n",
    "    Input: The sudoku in dictionary form\n",
    "    Output: None\n",
    "    \"\"\"\n",
    "    width = 1+max(len(values[s]) for s in boxes)\n",
    "    line = '+'.join(['-'*(width*3)]*3)\n",
    "    for r in rows:\n",
    "        print(''.join(values[r+c].center(width)+('|' if c in '36' else '')\n",
    "                      for c in cols))\n",
    "        if r in 'CF': print(line)\n",
    "    return\n",
    "\n",
    "\n",
    "# WARNING! We've modified this function to return '123456789' instead of '.' for boxes with no value.\n",
    "# Look at the explanation above in the text.\n",
    "def grid_values(grid):\n",
    "    \"\"\"Convert grid string into {<box>: <value>} dict with '123456789' value for empties.\n",
    "\n",
    "    Args:\n",
    "        grid: Sudoku grid in string form, 81 characters long\n",
    "    Returns:\n",
    "        Sudoku grid in dictionary form:\n",
    "        - keys: Box labels, e.g. 'A1'\n",
    "        - values: Value in corresponding box, e.g. '8', or '123456789' if it is empty.\n",
    "    \"\"\"\n",
    "    values = []\n",
    "    all_digits = '123456789'\n",
    "    for c in grid:\n",
    "        if c == '.':\n",
    "            values.append(all_digits)\n",
    "        elif c in all_digits:\n",
    "            values.append(c)\n",
    "    assert len(values) == 81\n",
    "    return dict(zip(boxes, values))\n"
   ]
  },
  {
   "cell_type": "code",
   "execution_count": 10,
   "metadata": {
    "collapsed": false,
    "deletable": true,
    "editable": true
   },
   "outputs": [
    {
     "data": {
      "text/plain": [
       "[['A1', 'A2', 'A3', 'A4', 'A5', 'A6', 'A7', 'A8', 'A9'],\n",
       " ['B1', 'B2', 'B3', 'B4', 'B5', 'B6', 'B7', 'B8', 'B9'],\n",
       " ['C1', 'C2', 'C3', 'C4', 'C5', 'C6', 'C7', 'C8', 'C9'],\n",
       " ['D1', 'D2', 'D3', 'D4', 'D5', 'D6', 'D7', 'D8', 'D9'],\n",
       " ['E1', 'E2', 'E3', 'E4', 'E5', 'E6', 'E7', 'E8', 'E9'],\n",
       " ['F1', 'F2', 'F3', 'F4', 'F5', 'F6', 'F7', 'F8', 'F9'],\n",
       " ['G1', 'G2', 'G3', 'G4', 'G5', 'G6', 'G7', 'G8', 'G9'],\n",
       " ['H1', 'H2', 'H3', 'H4', 'H5', 'H6', 'H7', 'H8', 'H9'],\n",
       " ['I1', 'I2', 'I3', 'I4', 'I5', 'I6', 'I7', 'I8', 'I9']]"
      ]
     },
     "execution_count": 10,
     "metadata": {},
     "output_type": "execute_result"
    }
   ],
   "source": [
    "row_units"
   ]
  },
  {
   "cell_type": "code",
   "execution_count": 14,
   "metadata": {
    "collapsed": true,
    "deletable": true,
    "editable": true
   },
   "outputs": [],
   "source": [
    "grid = '..3.2.6..9..3.5..1..18.64....81.29..7.......8..67.82....26.95..8..2.3..9..5.1.3..'"
   ]
  },
  {
   "cell_type": "code",
   "execution_count": 35,
   "metadata": {
    "collapsed": false,
    "deletable": true,
    "editable": true
   },
   "outputs": [],
   "source": [
    "def grid_values(grid):\n",
    "    \"\"\"Convert grid string into {<box>: <value>} dict with '.' value for empties.\n",
    "\n",
    "    Args:\n",
    "        grid: Sudoku grid in string form, 81 characters long\n",
    "    Returns:\n",
    "        Sudoku grid in dictionary form:\n",
    "        - keys: Box labels, e.g. 'A1'\n",
    "        - values: Value in corresponding box, e.g. '8', or '.' if it is empty.\n",
    "    \"\"\"\n",
    "    assert len(grid) == 81, \"Input grid must be a string of length 81 (9x9)\"\n",
    "    return dict(zip(boxes, grid))"
   ]
  },
  {
   "cell_type": "code",
   "execution_count": 42,
   "metadata": {
    "collapsed": false,
    "deletable": true,
    "editable": true,
    "scrolled": true
   },
   "outputs": [],
   "source": [
    "mypuzzle = grid_values(grid)"
   ]
  },
  {
   "cell_type": "code",
   "execution_count": 40,
   "metadata": {
    "collapsed": false
   },
   "outputs": [],
   "source": [
    "def eliminate(values):\n",
    "    \"\"\"Eliminate values from peers of each box with a single value.\n",
    "\n",
    "    Go through all the boxes, and whenever there is a box with a single value,\n",
    "    eliminate this value from the set of values of all its peers.\n",
    "\n",
    "    Args:\n",
    "        values: Sudoku in dictionary form.\n",
    "    Returns:\n",
    "        Resulting Sudoku in dictionary form after eliminating values.\n",
    "    \"\"\"\n",
    "    solved_values = [box for box in values.keys() if len(values[box]) == 1]\n",
    "    for box in solved_values: #for every key in solved values\n",
    "        digit = values[box]\n",
    "        for peer in peers[box]:\n",
    "            values[peer] = values[peer].replace(digit,'')\n",
    "    return values\n"
   ]
  },
  {
   "cell_type": "code",
   "execution_count": 50,
   "metadata": {
    "collapsed": false
   },
   "outputs": [],
   "source": [
    "values = mypuzzle"
   ]
  },
  {
   "cell_type": "code",
   "execution_count": 52,
   "metadata": {
    "collapsed": true
   },
   "outputs": [],
   "source": [
    "solved_values = [box for box in values.keys() if len(values[box]) == 1]"
   ]
  },
  {
   "cell_type": "code",
   "execution_count": 44,
   "metadata": {
    "collapsed": false,
    "scrolled": true
   },
   "outputs": [
    {
     "data": {
      "text/plain": [
       "{'A1': '.',\n",
       " 'A2': '',\n",
       " 'A3': '3',\n",
       " 'A4': '',\n",
       " 'A5': '2',\n",
       " 'A6': '',\n",
       " 'A7': '6',\n",
       " 'A8': '',\n",
       " 'A9': '',\n",
       " 'B1': '9',\n",
       " 'B2': '',\n",
       " 'B3': '',\n",
       " 'B4': '3',\n",
       " 'B5': '.',\n",
       " 'B6': '5',\n",
       " 'B7': '',\n",
       " 'B8': '',\n",
       " 'B9': '1',\n",
       " 'C1': '',\n",
       " 'C2': '',\n",
       " 'C3': '1',\n",
       " 'C4': '8',\n",
       " 'C5': '',\n",
       " 'C6': '6',\n",
       " 'C7': '4',\n",
       " 'C8': '.',\n",
       " 'C9': '',\n",
       " 'D1': '',\n",
       " 'D2': '.',\n",
       " 'D3': '8',\n",
       " 'D4': '1',\n",
       " 'D5': '',\n",
       " 'D6': '2',\n",
       " 'D7': '9',\n",
       " 'D8': '',\n",
       " 'D9': '',\n",
       " 'E1': '7',\n",
       " 'E2': '',\n",
       " 'E3': '',\n",
       " 'E4': '.',\n",
       " 'E5': '',\n",
       " 'E6': '',\n",
       " 'E7': '',\n",
       " 'E8': '',\n",
       " 'E9': '8',\n",
       " 'F1': '',\n",
       " 'F2': '',\n",
       " 'F3': '6',\n",
       " 'F4': '7',\n",
       " 'F5': '',\n",
       " 'F6': '8',\n",
       " 'F7': '2',\n",
       " 'F8': '',\n",
       " 'F9': '.',\n",
       " 'G1': '',\n",
       " 'G2': '',\n",
       " 'G3': '2',\n",
       " 'G4': '6',\n",
       " 'G5': '',\n",
       " 'G6': '9',\n",
       " 'G7': '5',\n",
       " 'G8': '',\n",
       " 'G9': '',\n",
       " 'H1': '8',\n",
       " 'H2': '',\n",
       " 'H3': '.',\n",
       " 'H4': '2',\n",
       " 'H5': '',\n",
       " 'H6': '3',\n",
       " 'H7': '',\n",
       " 'H8': '',\n",
       " 'H9': '9',\n",
       " 'I1': '',\n",
       " 'I2': '',\n",
       " 'I3': '5',\n",
       " 'I4': '',\n",
       " 'I5': '1',\n",
       " 'I6': '.',\n",
       " 'I7': '3',\n",
       " 'I8': '',\n",
       " 'I9': ''}"
      ]
     },
     "execution_count": 44,
     "metadata": {},
     "output_type": "execute_result"
    }
   ],
   "source": [
    "eliminate(mypuzzle)"
   ]
  },
  {
   "cell_type": "code",
   "execution_count": 54,
   "metadata": {
    "collapsed": true
   },
   "outputs": [],
   "source": [
    "def only_choice(values):\n",
    "    \"\"\"Finalize all values that are the only choice for a unit.\n",
    "\n",
    "    Go through all the units, and whenever there is a unit with a value\n",
    "    that only fits in one box, assign the value to this box.\n",
    "\n",
    "    Input: Sudoku in dictionary form.\n",
    "    Output: Resulting Sudoku in dictionary form after filling in only choices.\n",
    "    \"\"\"\n",
    "    for unit in unitlist: #iterate through the unitlist (these are sets of peers)\n",
    "        for digit in '123456789':\n",
    "            dplaces = [box for box in unit if digit in values[box]]\n",
    "            if len(dplaces) == 1:\n",
    "                values[dplaces[0]] = digit\n",
    "    return values"
   ]
  },
  {
   "cell_type": "code",
   "execution_count": 55,
   "metadata": {
    "collapsed": true
   },
   "outputs": [
    {
     "data": {
      "text/plain": [
       "{'A1': '.',\n",
       " 'A2': '',\n",
       " 'A3': '3',\n",
       " 'A4': '',\n",
       " 'A5': '2',\n",
       " 'A6': '',\n",
       " 'A7': '6',\n",
       " 'A8': '',\n",
       " 'A9': '',\n",
       " 'B1': '9',\n",
       " 'B2': '',\n",
       " 'B3': '',\n",
       " 'B4': '3',\n",
       " 'B5': '.',\n",
       " 'B6': '5',\n",
       " 'B7': '',\n",
       " 'B8': '',\n",
       " 'B9': '1',\n",
       " 'C1': '',\n",
       " 'C2': '',\n",
       " 'C3': '1',\n",
       " 'C4': '8',\n",
       " 'C5': '',\n",
       " 'C6': '6',\n",
       " 'C7': '4',\n",
       " 'C8': '.',\n",
       " 'C9': '',\n",
       " 'D1': '',\n",
       " 'D2': '.',\n",
       " 'D3': '8',\n",
       " 'D4': '1',\n",
       " 'D5': '',\n",
       " 'D6': '2',\n",
       " 'D7': '9',\n",
       " 'D8': '',\n",
       " 'D9': '',\n",
       " 'E1': '7',\n",
       " 'E2': '',\n",
       " 'E3': '',\n",
       " 'E4': '.',\n",
       " 'E5': '',\n",
       " 'E6': '',\n",
       " 'E7': '',\n",
       " 'E8': '',\n",
       " 'E9': '8',\n",
       " 'F1': '',\n",
       " 'F2': '',\n",
       " 'F3': '6',\n",
       " 'F4': '7',\n",
       " 'F5': '',\n",
       " 'F6': '8',\n",
       " 'F7': '2',\n",
       " 'F8': '',\n",
       " 'F9': '.',\n",
       " 'G1': '',\n",
       " 'G2': '',\n",
       " 'G3': '2',\n",
       " 'G4': '6',\n",
       " 'G5': '',\n",
       " 'G6': '9',\n",
       " 'G7': '5',\n",
       " 'G8': '',\n",
       " 'G9': '',\n",
       " 'H1': '8',\n",
       " 'H2': '',\n",
       " 'H3': '.',\n",
       " 'H4': '2',\n",
       " 'H5': '',\n",
       " 'H6': '3',\n",
       " 'H7': '',\n",
       " 'H8': '',\n",
       " 'H9': '9',\n",
       " 'I1': '',\n",
       " 'I2': '',\n",
       " 'I3': '5',\n",
       " 'I4': '',\n",
       " 'I5': '1',\n",
       " 'I6': '.',\n",
       " 'I7': '3',\n",
       " 'I8': '',\n",
       " 'I9': ''}"
      ]
     },
     "execution_count": 55,
     "metadata": {},
     "output_type": "execute_result"
    }
   ],
   "source": [
    "only_choice(values)"
   ]
  },
  {
   "cell_type": "code",
   "execution_count": 56,
   "metadata": {
    "collapsed": true
   },
   "outputs": [
    {
     "data": {
      "text/plain": [
       "[['A1', 'A2', 'A3', 'A4', 'A5', 'A6', 'A7', 'A8', 'A9'],\n",
       " ['B1', 'B2', 'B3', 'B4', 'B5', 'B6', 'B7', 'B8', 'B9'],\n",
       " ['C1', 'C2', 'C3', 'C4', 'C5', 'C6', 'C7', 'C8', 'C9'],\n",
       " ['D1', 'D2', 'D3', 'D4', 'D5', 'D6', 'D7', 'D8', 'D9'],\n",
       " ['E1', 'E2', 'E3', 'E4', 'E5', 'E6', 'E7', 'E8', 'E9'],\n",
       " ['F1', 'F2', 'F3', 'F4', 'F5', 'F6', 'F7', 'F8', 'F9'],\n",
       " ['G1', 'G2', 'G3', 'G4', 'G5', 'G6', 'G7', 'G8', 'G9'],\n",
       " ['H1', 'H2', 'H3', 'H4', 'H5', 'H6', 'H7', 'H8', 'H9'],\n",
       " ['I1', 'I2', 'I3', 'I4', 'I5', 'I6', 'I7', 'I8', 'I9'],\n",
       " ['A1', 'B1', 'C1', 'D1', 'E1', 'F1', 'G1', 'H1', 'I1'],\n",
       " ['A2', 'B2', 'C2', 'D2', 'E2', 'F2', 'G2', 'H2', 'I2'],\n",
       " ['A3', 'B3', 'C3', 'D3', 'E3', 'F3', 'G3', 'H3', 'I3'],\n",
       " ['A4', 'B4', 'C4', 'D4', 'E4', 'F4', 'G4', 'H4', 'I4'],\n",
       " ['A5', 'B5', 'C5', 'D5', 'E5', 'F5', 'G5', 'H5', 'I5'],\n",
       " ['A6', 'B6', 'C6', 'D6', 'E6', 'F6', 'G6', 'H6', 'I6'],\n",
       " ['A7', 'B7', 'C7', 'D7', 'E7', 'F7', 'G7', 'H7', 'I7'],\n",
       " ['A8', 'B8', 'C8', 'D8', 'E8', 'F8', 'G8', 'H8', 'I8'],\n",
       " ['A9', 'B9', 'C9', 'D9', 'E9', 'F9', 'G9', 'H9', 'I9'],\n",
       " ['A1', 'A2', 'A3', 'B1', 'B2', 'B3', 'C1', 'C2', 'C3'],\n",
       " ['A4', 'A5', 'A6', 'B4', 'B5', 'B6', 'C4', 'C5', 'C6'],\n",
       " ['A7', 'A8', 'A9', 'B7', 'B8', 'B9', 'C7', 'C8', 'C9'],\n",
       " ['D1', 'D2', 'D3', 'E1', 'E2', 'E3', 'F1', 'F2', 'F3'],\n",
       " ['D4', 'D5', 'D6', 'E4', 'E5', 'E6', 'F4', 'F5', 'F6'],\n",
       " ['D7', 'D8', 'D9', 'E7', 'E8', 'E9', 'F7', 'F8', 'F9'],\n",
       " ['G1', 'G2', 'G3', 'H1', 'H2', 'H3', 'I1', 'I2', 'I3'],\n",
       " ['G4', 'G5', 'G6', 'H4', 'H5', 'H6', 'I4', 'I5', 'I6'],\n",
       " ['G7', 'G8', 'G9', 'H7', 'H8', 'H9', 'I7', 'I8', 'I9']]"
      ]
     },
     "execution_count": 56,
     "metadata": {},
     "output_type": "execute_result"
    }
   ],
   "source": [
    "unitlist"
   ]
  },
  {
   "cell_type": "code",
   "execution_count": 61,
   "metadata": {
    "collapsed": true
   },
   "outputs": [],
   "source": [
    "for unit in unitlist: #iterate through the unitlist (these are sets of peers)\n",
    "    for digit in '123456789':\n",
    "        dplaces = [box for box in unit if digit in values[box]]"
   ]
  },
  {
   "cell_type": "code",
   "execution_count": 70,
   "metadata": {
    "collapsed": false
   },
   "outputs": [
    {
     "data": {
      "text/plain": [
       "True"
      ]
     },
     "execution_count": 70,
     "metadata": {},
     "output_type": "execute_result"
    }
   ],
   "source": [
    "all(['hello','bye', True])"
   ]
  },
  {
   "cell_type": "code",
   "execution_count": 73,
   "metadata": {
    "collapsed": false
   },
   "outputs": [],
   "source": [
    "def search(values):\n",
    "    \"\"\"Using depth-first search and propagation, try all possible values.\n",
    "    So, what is happening here?  First we run the reduce puzzle function which \n",
    "    executes reduce and only choice.\n",
    "    After the function completes, check the puzzle, if it is solved then return it.\n",
    "    If not (returns false), then we need to find the unfinished square that has the least letters\n",
    "    Now, replace that square with a single value, and recursively run the search() function. (DFS)\n",
    "\n",
    "    \"\"\"\n",
    "    # First, reduce the puzzle using the previous function\n",
    "    values = reduce_puzzle(values)\n",
    "    if values is False:\n",
    "        return False ## Failed earlier\n",
    "    if all(len(values[s]) == 1 for s in boxes): \n",
    "        return values ## Solved!\n",
    "    # Choose one of the unfilled squares with the fewest possibilities\n",
    "    n,s = min((len(values[s]), s) for s in boxes if len(values[s]) > 1)\n",
    "    # Now use recurrence to solve each one of the resulting sudokus, and \n",
    "    for value in values[s]:\n",
    "        new_sudoku = values.copy()\n",
    "        new_sudoku[s] = value\n",
    "        attempt = search(new_sudoku)\n",
    "        if attempt:\n",
    "            return attempt"
   ]
  },
  {
   "cell_type": "code",
   "execution_count": 75,
   "metadata": {
    "collapsed": true
   },
   "outputs": [],
   "source": [
    "grid = '2.............62....1....7...6..8...3...9...7...6..4...4....8....52.............3'"
   ]
  },
  {
   "cell_type": "code",
   "execution_count": 89,
   "metadata": {
    "collapsed": false
   },
   "outputs": [],
   "source": [
    "mygrid = grid_values(grid)"
   ]
  },
  {
   "cell_type": "code",
   "execution_count": 90,
   "metadata": {
    "collapsed": false
   },
   "outputs": [
    {
     "name": "stdout",
     "output_type": "stream",
     "text": [
      "    2     123456789 123456789 |123456789 123456789 123456789 |123456789 123456789 123456789 \n",
      "123456789 123456789 123456789 |123456789 123456789     6     |    2     123456789 123456789 \n",
      "123456789 123456789     1     |123456789 123456789 123456789 |123456789     7     123456789 \n",
      "------------------------------+------------------------------+------------------------------\n",
      "123456789 123456789     6     |123456789 123456789     8     |123456789 123456789 123456789 \n",
      "    3     123456789 123456789 |123456789     9     123456789 |123456789 123456789     7     \n",
      "123456789 123456789 123456789 |    6     123456789 123456789 |    4     123456789 123456789 \n",
      "------------------------------+------------------------------+------------------------------\n",
      "123456789     4     123456789 |123456789 123456789 123456789 |    8     123456789 123456789 \n",
      "123456789 123456789     5     |    2     123456789 123456789 |123456789 123456789 123456789 \n",
      "123456789 123456789 123456789 |123456789 123456789 123456789 |123456789 123456789     3     \n"
     ]
    }
   ],
   "source": [
    "display(mygrid)"
   ]
  },
  {
   "cell_type": "code",
   "execution_count": 94,
   "metadata": {
    "collapsed": false,
    "scrolled": true
   },
   "outputs": [
    {
     "data": {
      "text/plain": [
       "{'A1': '2',\n",
       " 'A2': '356789',\n",
       " 'A3': '34789',\n",
       " 'A4': '1345789',\n",
       " 'A5': '134578',\n",
       " 'A6': '134579',\n",
       " 'A7': '13569',\n",
       " 'A8': '1345689',\n",
       " 'A9': '145689',\n",
       " 'B1': '45789',\n",
       " 'B2': '35789',\n",
       " 'B3': '34789',\n",
       " 'B4': '1345789',\n",
       " 'B5': '134578',\n",
       " 'B6': '6',\n",
       " 'B7': '2',\n",
       " 'B8': '134589',\n",
       " 'B9': '14589',\n",
       " 'C1': '45689',\n",
       " 'C2': '35689',\n",
       " 'C3': '1',\n",
       " 'C4': '34589',\n",
       " 'C5': '23458',\n",
       " 'C6': '23459',\n",
       " 'C7': '3569',\n",
       " 'C8': '7',\n",
       " 'C9': '45689',\n",
       " 'D1': '14579',\n",
       " 'D2': '12579',\n",
       " 'D3': '6',\n",
       " 'D4': '13457',\n",
       " 'D5': '123457',\n",
       " 'D6': '8',\n",
       " 'D7': '1359',\n",
       " 'D8': '12359',\n",
       " 'D9': '1259',\n",
       " 'E1': '3',\n",
       " 'E2': '1258',\n",
       " 'E3': '248',\n",
       " 'E4': '145',\n",
       " 'E5': '9',\n",
       " 'E6': '1245',\n",
       " 'E7': '156',\n",
       " 'E8': '12568',\n",
       " 'E9': '7',\n",
       " 'F1': '15789',\n",
       " 'F2': '125789',\n",
       " 'F3': '2789',\n",
       " 'F4': '6',\n",
       " 'F5': '12357',\n",
       " 'F6': '12357',\n",
       " 'F7': '4',\n",
       " 'F8': '123589',\n",
       " 'F9': '12589',\n",
       " 'G1': '1679',\n",
       " 'G2': '4',\n",
       " 'G3': '2379',\n",
       " 'G4': '13579',\n",
       " 'G5': '13567',\n",
       " 'G6': '13579',\n",
       " 'G7': '8',\n",
       " 'G8': '12569',\n",
       " 'G9': '12569',\n",
       " 'H1': '16789',\n",
       " 'H2': '136789',\n",
       " 'H3': '5',\n",
       " 'H4': '2',\n",
       " 'H5': '134678',\n",
       " 'H6': '13479',\n",
       " 'H7': '1679',\n",
       " 'H8': '1469',\n",
       " 'H9': '1469',\n",
       " 'I1': '16789',\n",
       " 'I2': '126789',\n",
       " 'I3': '2789',\n",
       " 'I4': '145789',\n",
       " 'I5': '145678',\n",
       " 'I6': '14579',\n",
       " 'I7': '15679',\n",
       " 'I8': '124569',\n",
       " 'I9': '3'}"
      ]
     },
     "execution_count": 94,
     "metadata": {},
     "output_type": "execute_result"
    }
   ],
   "source": [
    "reduce_puzzle(mygrid)"
   ]
  },
  {
   "cell_type": "code",
   "execution_count": 131,
   "metadata": {
    "collapsed": true
   },
   "outputs": [],
   "source": [
    "def solve(grid):\n",
    "    \"\"\"\n",
    "    Find the solution to a Sudoku grid.\n",
    "    Args:\n",
    "        grid(string): a string representing a sudoku grid.\n",
    "            Example: '2.............62....1....7...6..8...3...9...7...6..4...4....8....52.............3'\n",
    "    Returns:\n",
    "        The dictionary representation of the final sudoku grid. False if no solution exists.\n",
    "    \"\"\"\n",
    "    values = grid_values(grid)\n",
    "    myanswer = search(values)\n",
    "    return myanswer"
   ]
  },
  {
   "cell_type": "code",
   "execution_count": null,
   "metadata": {
    "collapsed": true
   },
   "outputs": [],
   "source": [
    "\n",
    "        "
   ]
  },
  {
   "cell_type": "code",
   "execution_count": 143,
   "metadata": {
    "collapsed": false
   },
   "outputs": [],
   "source": [
    "mygrid = grid_values(grid)"
   ]
  },
  {
   "cell_type": "code",
   "execution_count": 156,
   "metadata": {
    "collapsed": false
   },
   "outputs": [],
   "source": [
    "mygrid = eliminate(mygrid)"
   ]
  },
  {
   "cell_type": "code",
   "execution_count": 157,
   "metadata": {
    "collapsed": false
   },
   "outputs": [],
   "source": [
    "mygrid = only_choice(mygrid)"
   ]
  },
  {
   "cell_type": "code",
   "execution_count": 158,
   "metadata": {
    "collapsed": false
   },
   "outputs": [
    {
     "name": "stdout",
     "output_type": "stream",
     "text": [
      "   2     356789  34789  |1345789  134578  134579 | 13569  1345689  145689 \n",
      " 45789   35789   34789  |1345789  134578    6    |   2     134589  14589  \n",
      " 45689   35689     1    | 34589   23458   23459  |  3569     7     45689  \n",
      "------------------------+------------------------+------------------------\n",
      " 14579   12579     6    | 13457   123457    8    |  1359   12359    1259  \n",
      "   3      1258    248   |  145      9      1245  |  156    12568     7    \n",
      " 15789   125789   2789  |   6     12357   12357  |   4     123589  12589  \n",
      "------------------------+------------------------+------------------------\n",
      "  1679     4      2379  | 13579   13567   13579  |   8     12569   12569  \n",
      " 16789   136789    5    |   2     134678  13479  |  1679    1469    1469  \n",
      " 16789   126789   2789  | 145789  145678  14579  | 15679   124569    3    \n"
     ]
    }
   ],
   "source": [
    "display(mygrid)"
   ]
  },
  {
   "cell_type": "code",
   "execution_count": 160,
   "metadata": {
    "collapsed": false
   },
   "outputs": [
    {
     "data": {
      "text/plain": [
       "[['A1', 'A2', 'A3', 'A4', 'A5', 'A6', 'A7', 'A8', 'A9'],\n",
       " ['B1', 'B2', 'B3', 'B4', 'B5', 'B6', 'B7', 'B8', 'B9'],\n",
       " ['C1', 'C2', 'C3', 'C4', 'C5', 'C6', 'C7', 'C8', 'C9'],\n",
       " ['D1', 'D2', 'D3', 'D4', 'D5', 'D6', 'D7', 'D8', 'D9'],\n",
       " ['E1', 'E2', 'E3', 'E4', 'E5', 'E6', 'E7', 'E8', 'E9'],\n",
       " ['F1', 'F2', 'F3', 'F4', 'F5', 'F6', 'F7', 'F8', 'F9'],\n",
       " ['G1', 'G2', 'G3', 'G4', 'G5', 'G6', 'G7', 'G8', 'G9'],\n",
       " ['H1', 'H2', 'H3', 'H4', 'H5', 'H6', 'H7', 'H8', 'H9'],\n",
       " ['I1', 'I2', 'I3', 'I4', 'I5', 'I6', 'I7', 'I8', 'I9'],\n",
       " ['A1', 'B1', 'C1', 'D1', 'E1', 'F1', 'G1', 'H1', 'I1'],\n",
       " ['A2', 'B2', 'C2', 'D2', 'E2', 'F2', 'G2', 'H2', 'I2'],\n",
       " ['A3', 'B3', 'C3', 'D3', 'E3', 'F3', 'G3', 'H3', 'I3'],\n",
       " ['A4', 'B4', 'C4', 'D4', 'E4', 'F4', 'G4', 'H4', 'I4'],\n",
       " ['A5', 'B5', 'C5', 'D5', 'E5', 'F5', 'G5', 'H5', 'I5'],\n",
       " ['A6', 'B6', 'C6', 'D6', 'E6', 'F6', 'G6', 'H6', 'I6'],\n",
       " ['A7', 'B7', 'C7', 'D7', 'E7', 'F7', 'G7', 'H7', 'I7'],\n",
       " ['A8', 'B8', 'C8', 'D8', 'E8', 'F8', 'G8', 'H8', 'I8'],\n",
       " ['A9', 'B9', 'C9', 'D9', 'E9', 'F9', 'G9', 'H9', 'I9'],\n",
       " ['A1', 'A2', 'A3', 'B1', 'B2', 'B3', 'C1', 'C2', 'C3'],\n",
       " ['A4', 'A5', 'A6', 'B4', 'B5', 'B6', 'C4', 'C5', 'C6'],\n",
       " ['A7', 'A8', 'A9', 'B7', 'B8', 'B9', 'C7', 'C8', 'C9'],\n",
       " ['D1', 'D2', 'D3', 'E1', 'E2', 'E3', 'F1', 'F2', 'F3'],\n",
       " ['D4', 'D5', 'D6', 'E4', 'E5', 'E6', 'F4', 'F5', 'F6'],\n",
       " ['D7', 'D8', 'D9', 'E7', 'E8', 'E9', 'F7', 'F8', 'F9'],\n",
       " ['G1', 'G2', 'G3', 'H1', 'H2', 'H3', 'I1', 'I2', 'I3'],\n",
       " ['G4', 'G5', 'G6', 'H4', 'H5', 'H6', 'I4', 'I5', 'I6'],\n",
       " ['G7', 'G8', 'G9', 'H7', 'H8', 'H9', 'I7', 'I8', 'I9']]"
      ]
     },
     "execution_count": 160,
     "metadata": {},
     "output_type": "execute_result"
    }
   ],
   "source": [
    "unitlist"
   ]
  },
  {
   "cell_type": "code",
   "execution_count": 161,
   "metadata": {
    "collapsed": true
   },
   "outputs": [],
   "source": [
    "l = [1,2,3,4,4,5,5,6,1]"
   ]
  },
  {
   "cell_type": "code",
   "execution_count": 162,
   "metadata": {
    "collapsed": false
   },
   "outputs": [
    {
     "data": {
      "text/plain": [
       "2"
      ]
     },
     "execution_count": 162,
     "metadata": {},
     "output_type": "execute_result"
    }
   ],
   "source": [
    "l.count(4)"
   ]
  },
  {
   "cell_type": "code",
   "execution_count": 163,
   "metadata": {
    "collapsed": true
   },
   "outputs": [],
   "source": [
    "import collections"
   ]
  },
  {
   "cell_type": "code",
   "execution_count": 164,
   "metadata": {
    "collapsed": false
   },
   "outputs": [
    {
     "data": {
      "text/plain": [
       "Counter({1: 2, 2: 1, 3: 1, 4: 2, 5: 2, 6: 1})"
      ]
     },
     "execution_count": 164,
     "metadata": {},
     "output_type": "execute_result"
    }
   ],
   "source": [
    "collections.Counter(l)"
   ]
  },
  {
   "cell_type": "code",
   "execution_count": 175,
   "metadata": {
    "collapsed": false
   },
   "outputs": [],
   "source": [
    "#we want to find the naked twins from this sample list\n",
    "sample_list = ['2',\n",
    " '356789',\n",
    " '34789',\n",
    " '1345789',\n",
    " '134578',\n",
    " '13',\n",
    " '13',\n",
    " '1345689',\n",
    " '145689']"
   ]
  },
  {
   "cell_type": "code",
   "execution_count": 176,
   "metadata": {
    "collapsed": false
   },
   "outputs": [
    {
     "data": {
      "text/plain": [
       "[['A1', 'A2', 'A3', 'A4', 'A5', 'A6', 'A7', 'A8', 'A9'],\n",
       " ['B1', 'B2', 'B3', 'B4', 'B5', 'B6', 'B7', 'B8', 'B9'],\n",
       " ['C1', 'C2', 'C3', 'C4', 'C5', 'C6', 'C7', 'C8', 'C9'],\n",
       " ['D1', 'D2', 'D3', 'D4', 'D5', 'D6', 'D7', 'D8', 'D9'],\n",
       " ['E1', 'E2', 'E3', 'E4', 'E5', 'E6', 'E7', 'E8', 'E9'],\n",
       " ['F1', 'F2', 'F3', 'F4', 'F5', 'F6', 'F7', 'F8', 'F9'],\n",
       " ['G1', 'G2', 'G3', 'G4', 'G5', 'G6', 'G7', 'G8', 'G9'],\n",
       " ['H1', 'H2', 'H3', 'H4', 'H5', 'H6', 'H7', 'H8', 'H9'],\n",
       " ['I1', 'I2', 'I3', 'I4', 'I5', 'I6', 'I7', 'I8', 'I9'],\n",
       " ['A1', 'B1', 'C1', 'D1', 'E1', 'F1', 'G1', 'H1', 'I1'],\n",
       " ['A2', 'B2', 'C2', 'D2', 'E2', 'F2', 'G2', 'H2', 'I2'],\n",
       " ['A3', 'B3', 'C3', 'D3', 'E3', 'F3', 'G3', 'H3', 'I3'],\n",
       " ['A4', 'B4', 'C4', 'D4', 'E4', 'F4', 'G4', 'H4', 'I4'],\n",
       " ['A5', 'B5', 'C5', 'D5', 'E5', 'F5', 'G5', 'H5', 'I5'],\n",
       " ['A6', 'B6', 'C6', 'D6', 'E6', 'F6', 'G6', 'H6', 'I6'],\n",
       " ['A7', 'B7', 'C7', 'D7', 'E7', 'F7', 'G7', 'H7', 'I7'],\n",
       " ['A8', 'B8', 'C8', 'D8', 'E8', 'F8', 'G8', 'H8', 'I8'],\n",
       " ['A9', 'B9', 'C9', 'D9', 'E9', 'F9', 'G9', 'H9', 'I9'],\n",
       " ['A1', 'A2', 'A3', 'B1', 'B2', 'B3', 'C1', 'C2', 'C3'],\n",
       " ['A4', 'A5', 'A6', 'B4', 'B5', 'B6', 'C4', 'C5', 'C6'],\n",
       " ['A7', 'A8', 'A9', 'B7', 'B8', 'B9', 'C7', 'C8', 'C9'],\n",
       " ['D1', 'D2', 'D3', 'E1', 'E2', 'E3', 'F1', 'F2', 'F3'],\n",
       " ['D4', 'D5', 'D6', 'E4', 'E5', 'E6', 'F4', 'F5', 'F6'],\n",
       " ['D7', 'D8', 'D9', 'E7', 'E8', 'E9', 'F7', 'F8', 'F9'],\n",
       " ['G1', 'G2', 'G3', 'H1', 'H2', 'H3', 'I1', 'I2', 'I3'],\n",
       " ['G4', 'G5', 'G6', 'H4', 'H5', 'H6', 'I4', 'I5', 'I6'],\n",
       " ['G7', 'G8', 'G9', 'H7', 'H8', 'H9', 'I7', 'I8', 'I9']]"
      ]
     },
     "execution_count": 176,
     "metadata": {},
     "output_type": "execute_result"
    }
   ],
   "source": [
    "unitlist"
   ]
  },
  {
   "cell_type": "code",
   "execution_count": null,
   "metadata": {
    "collapsed": true
   },
   "outputs": [],
   "source": [
    "def naked_twins(values):\n",
    "    \"\"\"Eliminate values using the naked twins strategy.\n",
    "    Args:\n",
    "        values(dict): a dictionary of the form {'box_name': '123456789', ...}\n",
    "\n",
    "    Returns:\n",
    "        the values dictionary with the naked twins eliminated from peers.\n",
    "    \"\"\"\n",
    "\n",
    "    # Find all instances of naked twins\n",
    "    # Eliminate the naked twins as possibilities for their peers\n",
    "    \n",
    "    \"\"\"\n",
    "    In order to find naked twins, we must search through rows, columns and squares for twins.  \n",
    "    Once these twins have been found we need to eliminate them from the other squares in the peer group\n",
    "    \"\"\"\n",
    "    for units in unitlist:\n",
    "        for box in units:\n",
    "            digits = values[box]\n",
    "            digit_length = len(digits)\n",
    "            if digit_length = 2 "
   ]
  },
  {
   "cell_type": "code",
   "execution_count": 193,
   "metadata": {
    "collapsed": true
   },
   "outputs": [],
   "source": [
    "import itertools"
   ]
  },
  {
   "cell_type": "code",
   "execution_count": 194,
   "metadata": {
    "collapsed": true
   },
   "outputs": [],
   "source": [
    "def naked_twins(values):\n",
    "    \"\"\"Eliminate values using the naked twins strategy.\n",
    "    Args:\n",
    "        values(dict): a dictionary of the form {'box_name': '123456789', ...}\n",
    "\n",
    "    Returns:\n",
    "        the values dictionary with the naked twins eliminated from peers.\n",
    "    \"\"\"\n",
    "\n",
    "    # Find all instances of naked twins\n",
    "    # Eliminate the naked twins as possibilities for their peers\n",
    "\n",
    "    # Naked twins: two boxes in same unit that have a pair of identical digits\n",
    "    # remaining as their only possibilities\n",
    "    for unit in unitlist:\n",
    "        # Find all boxes with two digits remaining as possibilities\n",
    "        pairs = [box for box in unit if len(values[box]) == 2]\n",
    "        # Pairwise combinations\n",
    "        poss_twins = [list(pair) for pair in itertools.combinations(pairs, 2)]\n",
    "        for pair in poss_twins:\n",
    "            box1 = pair[0]\n",
    "            box2 = pair[1]\n",
    "            # Find the naked twins\n",
    "            if values[box1] == values[box2]:\n",
    "                for box in unit:\n",
    "                    # Eliminate the naked twins as possibilities for peers\n",
    "                    if box != box1 and box != box2:\n",
    "                        for digit in values[box1]:\n",
    "                            values[box] = values[box].replace(digit,'')\n",
    "    return values"
   ]
  },
  {
   "cell_type": "code",
   "execution_count": 195,
   "metadata": {
    "collapsed": true
   },
   "outputs": [],
   "source": [
    "values = {\"G7\": \"2345678\", \"G6\": \"1236789\", \"G5\": \"23456789\", \"G4\": \"345678\",\n",
    "\"G3\": \"1234569\", \"G2\": \"12345678\", \"G1\": \"23456789\", \"G9\": \"24578\",\n",
    "\"G8\": \"345678\", \"C9\": \"124578\", \"C8\": \"3456789\", \"C3\": \"1234569\",\n",
    "\"C2\": \"1234568\", \"C1\": \"2345689\", \"C7\": \"2345678\", \"C6\": \"236789\",\n",
    "\"C5\": \"23456789\", \"C4\": \"345678\", \"E5\": \"678\", \"E4\": \"2\", \"F1\": \"1\",\n",
    "\"F2\": \"24\", \"F3\": \"24\", \"F4\": \"9\", \"F5\": \"37\", \"F6\": \"37\", \"F7\": \"58\",\n",
    "\"F8\": \"58\", \"F9\": \"6\", \"B4\": \"345678\", \"B5\": \"23456789\", \"B6\":\n",
    "\"236789\", \"B7\": \"2345678\", \"B1\": \"2345689\", \"B2\": \"1234568\", \"B3\":\n",
    "\"1234569\", \"B8\": \"3456789\", \"B9\": \"124578\", \"I9\": \"9\", \"I8\": \"345678\",\n",
    "\"I1\": \"2345678\", \"I3\": \"23456\", \"I2\": \"2345678\", \"I5\": \"2345678\",\n",
    "\"I4\": \"345678\", \"I7\": \"1\", \"I6\": \"23678\", \"A1\": \"2345689\", \"A3\": \"7\",\n",
    "\"A2\": \"234568\", \"E9\": \"3\", \"A4\": \"34568\", \"A7\": \"234568\", \"A6\":\n",
    "\"23689\", \"A9\": \"2458\", \"A8\": \"345689\", \"E7\": \"9\", \"E6\": \"4\", \"E1\":\n",
    "\"567\", \"E3\": \"56\", \"E2\": \"567\", \"E8\": \"1\", \"A5\": \"1\", \"H8\": \"345678\",\n",
    "\"H9\": \"24578\", \"H2\": \"12345678\", \"H3\": \"1234569\", \"H1\": \"23456789\",\n",
    "\"H6\": \"1236789\", \"H7\": \"2345678\", \"H4\": \"345678\", \"H5\": \"23456789\",\n",
    "\"D8\": \"2\", \"D9\": \"47\", \"D6\": \"5\", \"D7\": \"47\", \"D4\": \"1\", \"D5\": \"36\",\n",
    "\"D2\": \"9\", \"D3\": \"8\", \"D1\": \"36\"}"
   ]
  },
  {
   "cell_type": "code",
   "execution_count": 199,
   "metadata": {
    "collapsed": false
   },
   "outputs": [
    {
     "name": "stdout",
     "output_type": "stream",
     "text": [
      " 2345689   234568     7    |  34568      1      23689  |  234568   345689    2458  \n",
      " 2345689  1234568  1234569 |  345678  23456789  236789 | 2345678  3456789   124578 \n",
      " 2345689  1234568  1234569 |  345678  23456789  236789 | 2345678  3456789   124578 \n",
      "---------------------------+---------------------------+---------------------------\n",
      "    36       9        8    |    1        6        5    |    47       2        47   \n",
      "   567      567       56   |    2        68       4    |    9        1        3    \n",
      "    1        24       24   |    9        37       37   |    58       58       6    \n",
      "---------------------------+---------------------------+---------------------------\n",
      " 23456789 12345678 1234569 |  345678  23456789 1236789 | 2345678   345678   24578  \n",
      " 23456789 12345678 1234569 |  345678  23456789 1236789 | 2345678   345678   24578  \n",
      " 2345678  2345678   23456  |  345678  2345678   23678  |    1      345678     9    \n"
     ]
    }
   ],
   "source": [
    "display(values)"
   ]
  },
  {
   "cell_type": "code",
   "execution_count": 198,
   "metadata": {
    "collapsed": false
   },
   "outputs": [
    {
     "name": "stdout",
     "output_type": "stream",
     "text": [
      " 2345689   234568     7    |  34568      1      23689  |  234568   345689    2458  \n",
      " 2345689  1234568  1234569 |  345678  23456789  236789 | 2345678  3456789   124578 \n",
      " 2345689  1234568  1234569 |  345678  23456789  236789 | 2345678  3456789   124578 \n",
      "---------------------------+---------------------------+---------------------------\n",
      "    36       9        8    |    1        6        5    |    47       2        47   \n",
      "   567      567       56   |    2        68       4    |    9        1        3    \n",
      "    1        24       24   |    9        37       37   |    58       58       6    \n",
      "---------------------------+---------------------------+---------------------------\n",
      " 23456789 12345678 1234569 |  345678  23456789 1236789 | 2345678   345678   24578  \n",
      " 23456789 12345678 1234569 |  345678  23456789 1236789 | 2345678   345678   24578  \n",
      " 2345678  2345678   23456  |  345678  2345678   23678  |    1      345678     9    \n"
     ]
    }
   ],
   "source": [
    "display(naked_twins(values))"
   ]
  },
  {
   "cell_type": "code",
   "execution_count": null,
   "metadata": {
    "collapsed": true
   },
   "outputs": [],
   "source": []
  }
 ],
 "metadata": {
  "kernelspec": {
   "display_name": "Python 3",
   "language": "python",
   "name": "python3"
  },
  "language_info": {
   "codemirror_mode": {
    "name": "ipython",
    "version": 3
   },
   "file_extension": ".py",
   "mimetype": "text/x-python",
   "name": "python",
   "nbconvert_exporter": "python",
   "pygments_lexer": "ipython3",
   "version": "3.6.0"
  }
 },
 "nbformat": 4,
 "nbformat_minor": 2
}
