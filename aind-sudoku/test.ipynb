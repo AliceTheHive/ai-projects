{
 "cells": [
  {
   "cell_type": "code",
   "execution_count": 30,
   "metadata": {
    "collapsed": true,
    "deletable": true,
    "editable": true
   },
   "outputs": [],
   "source": [
    "import solution"
   ]
  },
  {
   "cell_type": "code",
   "execution_count": 31,
   "metadata": {
    "collapsed": true,
    "deletable": true,
    "editable": true
   },
   "outputs": [],
   "source": [
    "diagonal_grid = '2.............62....1....7...6..8...3...9...7...6..4...4....8....52.............3'"
   ]
  },
  {
   "cell_type": "code",
   "execution_count": 32,
   "metadata": {
    "collapsed": true,
    "deletable": true,
    "editable": true
   },
   "outputs": [],
   "source": [
    "solution.solve(diagonal_grid)"
   ]
  },
  {
   "cell_type": "code",
   "execution_count": 33,
   "metadata": {
    "collapsed": false,
    "deletable": true,
    "editable": true
   },
   "outputs": [
    {
     "data": {
      "text/plain": [
       "'2.............62....1....7...6..8...3...9...7...6..4...4....8....52.............3'"
      ]
     },
     "execution_count": 33,
     "metadata": {},
     "output_type": "execute_result"
    }
   ],
   "source": [
    "diagonal_grid"
   ]
  },
  {
   "cell_type": "code",
   "execution_count": 88,
   "metadata": {
    "collapsed": true,
    "deletable": true,
    "editable": true
   },
   "outputs": [],
   "source": [
    "rows = 'ABCDEFGHI'\n",
    "cols = '123456789'\n",
    "\n",
    "def cross(a, b):\n",
    "    return [s+t for s in a for t in b]\n",
    "\n",
    "\n",
    "boxes = cross(rows, cols)\n",
    "\n",
    "row_units = [cross(r, cols) for r in rows]\n",
    "column_units = [cross(rows, c) for c in cols]\n",
    "square_units = [cross(rs, cs) for rs in ('ABC','DEF','GHI') for cs in ('123','456','789')]\n",
    "unitlist = row_units + column_units + square_units\n",
    "units = dict((s, [u for u in unitlist if s in u]) for s in boxes)\n",
    "peers = dict((s, set(sum(units[s],[]))-set([s])) for s in boxes)\n",
    "\n",
    "\n",
    "def display(values):\n",
    "    \"\"\"\n",
    "    Display the values as a 2-D grid.\n",
    "    Input: The sudoku in dictionary form\n",
    "    Output: None\n",
    "    \"\"\"\n",
    "    width = 1+max(len(values[s]) for s in boxes)\n",
    "    line = '+'.join(['-'*(width*3)]*3)\n",
    "    for r in rows:\n",
    "        print(''.join(values[r+c].center(width)+('|' if c in '36' else '')\n",
    "                      for c in cols))\n",
    "        if r in 'CF': print(line)\n",
    "    return\n",
    "\n",
    "\n",
    "# WARNING! We've modified this function to return '123456789' instead of '.' for boxes with no value.\n",
    "# Look at the explanation above in the text.\n",
    "def grid_values(grid):\n",
    "    \"\"\"Convert grid string into {<box>: <value>} dict with '123456789' value for empties.\n",
    "\n",
    "    Args:\n",
    "        grid: Sudoku grid in string form, 81 characters long\n",
    "    Returns:\n",
    "        Sudoku grid in dictionary form:\n",
    "        - keys: Box labels, e.g. 'A1'\n",
    "        - values: Value in corresponding box, e.g. '8', or '123456789' if it is empty.\n",
    "    \"\"\"\n",
    "    values = []\n",
    "    all_digits = '123456789'\n",
    "    for c in grid:\n",
    "        if c == '.':\n",
    "            values.append(all_digits)\n",
    "        elif c in all_digits:\n",
    "            values.append(c)\n",
    "    assert len(values) == 81\n",
    "    return dict(zip(boxes, values))\n"
   ]
  },
  {
   "cell_type": "code",
   "execution_count": 10,
   "metadata": {
    "collapsed": false,
    "deletable": true,
    "editable": true
   },
   "outputs": [
    {
     "data": {
      "text/plain": [
       "[['A1', 'A2', 'A3', 'A4', 'A5', 'A6', 'A7', 'A8', 'A9'],\n",
       " ['B1', 'B2', 'B3', 'B4', 'B5', 'B6', 'B7', 'B8', 'B9'],\n",
       " ['C1', 'C2', 'C3', 'C4', 'C5', 'C6', 'C7', 'C8', 'C9'],\n",
       " ['D1', 'D2', 'D3', 'D4', 'D5', 'D6', 'D7', 'D8', 'D9'],\n",
       " ['E1', 'E2', 'E3', 'E4', 'E5', 'E6', 'E7', 'E8', 'E9'],\n",
       " ['F1', 'F2', 'F3', 'F4', 'F5', 'F6', 'F7', 'F8', 'F9'],\n",
       " ['G1', 'G2', 'G3', 'G4', 'G5', 'G6', 'G7', 'G8', 'G9'],\n",
       " ['H1', 'H2', 'H3', 'H4', 'H5', 'H6', 'H7', 'H8', 'H9'],\n",
       " ['I1', 'I2', 'I3', 'I4', 'I5', 'I6', 'I7', 'I8', 'I9']]"
      ]
     },
     "execution_count": 10,
     "metadata": {},
     "output_type": "execute_result"
    }
   ],
   "source": [
    "row_units"
   ]
  },
  {
   "cell_type": "code",
   "execution_count": 14,
   "metadata": {
    "collapsed": true,
    "deletable": true,
    "editable": true
   },
   "outputs": [],
   "source": [
    "grid = '..3.2.6..9..3.5..1..18.64....81.29..7.......8..67.82....26.95..8..2.3..9..5.1.3..'"
   ]
  },
  {
   "cell_type": "code",
   "execution_count": 35,
   "metadata": {
    "collapsed": false,
    "deletable": true,
    "editable": true
   },
   "outputs": [],
   "source": [
    "def grid_values(grid):\n",
    "    \"\"\"Convert grid string into {<box>: <value>} dict with '.' value for empties.\n",
    "\n",
    "    Args:\n",
    "        grid: Sudoku grid in string form, 81 characters long\n",
    "    Returns:\n",
    "        Sudoku grid in dictionary form:\n",
    "        - keys: Box labels, e.g. 'A1'\n",
    "        - values: Value in corresponding box, e.g. '8', or '.' if it is empty.\n",
    "    \"\"\"\n",
    "    assert len(grid) == 81, \"Input grid must be a string of length 81 (9x9)\"\n",
    "    return dict(zip(boxes, grid))"
   ]
  },
  {
   "cell_type": "code",
   "execution_count": 42,
   "metadata": {
    "collapsed": false,
    "deletable": true,
    "editable": true,
    "scrolled": true
   },
   "outputs": [],
   "source": [
    "mypuzzle = grid_values(grid)"
   ]
  },
  {
   "cell_type": "code",
   "execution_count": 40,
   "metadata": {
    "collapsed": false
   },
   "outputs": [],
   "source": [
    "def eliminate(values):\n",
    "    \"\"\"Eliminate values from peers of each box with a single value.\n",
    "\n",
    "    Go through all the boxes, and whenever there is a box with a single value,\n",
    "    eliminate this value from the set of values of all its peers.\n",
    "\n",
    "    Args:\n",
    "        values: Sudoku in dictionary form.\n",
    "    Returns:\n",
    "        Resulting Sudoku in dictionary form after eliminating values.\n",
    "    \"\"\"\n",
    "    solved_values = [box for box in values.keys() if len(values[box]) == 1]\n",
    "    for box in solved_values: #for every key in solved values\n",
    "        digit = values[box]\n",
    "        for peer in peers[box]:\n",
    "            values[peer] = values[peer].replace(digit,'')\n",
    "    return values\n"
   ]
  },
  {
   "cell_type": "code",
   "execution_count": 50,
   "metadata": {
    "collapsed": false
   },
   "outputs": [],
   "source": [
    "values = mypuzzle"
   ]
  },
  {
   "cell_type": "code",
   "execution_count": 52,
   "metadata": {
    "collapsed": true
   },
   "outputs": [],
   "source": [
    "solved_values = [box for box in values.keys() if len(values[box]) == 1]"
   ]
  },
  {
   "cell_type": "code",
   "execution_count": 44,
   "metadata": {
    "collapsed": false,
    "scrolled": true
   },
   "outputs": [
    {
     "data": {
      "text/plain": [
       "{'A1': '.',\n",
       " 'A2': '',\n",
       " 'A3': '3',\n",
       " 'A4': '',\n",
       " 'A5': '2',\n",
       " 'A6': '',\n",
       " 'A7': '6',\n",
       " 'A8': '',\n",
       " 'A9': '',\n",
       " 'B1': '9',\n",
       " 'B2': '',\n",
       " 'B3': '',\n",
       " 'B4': '3',\n",
       " 'B5': '.',\n",
       " 'B6': '5',\n",
       " 'B7': '',\n",
       " 'B8': '',\n",
       " 'B9': '1',\n",
       " 'C1': '',\n",
       " 'C2': '',\n",
       " 'C3': '1',\n",
       " 'C4': '8',\n",
       " 'C5': '',\n",
       " 'C6': '6',\n",
       " 'C7': '4',\n",
       " 'C8': '.',\n",
       " 'C9': '',\n",
       " 'D1': '',\n",
       " 'D2': '.',\n",
       " 'D3': '8',\n",
       " 'D4': '1',\n",
       " 'D5': '',\n",
       " 'D6': '2',\n",
       " 'D7': '9',\n",
       " 'D8': '',\n",
       " 'D9': '',\n",
       " 'E1': '7',\n",
       " 'E2': '',\n",
       " 'E3': '',\n",
       " 'E4': '.',\n",
       " 'E5': '',\n",
       " 'E6': '',\n",
       " 'E7': '',\n",
       " 'E8': '',\n",
       " 'E9': '8',\n",
       " 'F1': '',\n",
       " 'F2': '',\n",
       " 'F3': '6',\n",
       " 'F4': '7',\n",
       " 'F5': '',\n",
       " 'F6': '8',\n",
       " 'F7': '2',\n",
       " 'F8': '',\n",
       " 'F9': '.',\n",
       " 'G1': '',\n",
       " 'G2': '',\n",
       " 'G3': '2',\n",
       " 'G4': '6',\n",
       " 'G5': '',\n",
       " 'G6': '9',\n",
       " 'G7': '5',\n",
       " 'G8': '',\n",
       " 'G9': '',\n",
       " 'H1': '8',\n",
       " 'H2': '',\n",
       " 'H3': '.',\n",
       " 'H4': '2',\n",
       " 'H5': '',\n",
       " 'H6': '3',\n",
       " 'H7': '',\n",
       " 'H8': '',\n",
       " 'H9': '9',\n",
       " 'I1': '',\n",
       " 'I2': '',\n",
       " 'I3': '5',\n",
       " 'I4': '',\n",
       " 'I5': '1',\n",
       " 'I6': '.',\n",
       " 'I7': '3',\n",
       " 'I8': '',\n",
       " 'I9': ''}"
      ]
     },
     "execution_count": 44,
     "metadata": {},
     "output_type": "execute_result"
    }
   ],
   "source": [
    "eliminate(mypuzzle)"
   ]
  },
  {
   "cell_type": "code",
   "execution_count": 54,
   "metadata": {
    "collapsed": true
   },
   "outputs": [],
   "source": [
    "def only_choice(values):\n",
    "    \"\"\"Finalize all values that are the only choice for a unit.\n",
    "\n",
    "    Go through all the units, and whenever there is a unit with a value\n",
    "    that only fits in one box, assign the value to this box.\n",
    "\n",
    "    Input: Sudoku in dictionary form.\n",
    "    Output: Resulting Sudoku in dictionary form after filling in only choices.\n",
    "    \"\"\"\n",
    "    for unit in unitlist: #iterate through the unitlist (these are sets of peers)\n",
    "        for digit in '123456789':\n",
    "            dplaces = [box for box in unit if digit in values[box]]\n",
    "            if len(dplaces) == 1:\n",
    "                values[dplaces[0]] = digit\n",
    "    return values"
   ]
  },
  {
   "cell_type": "code",
   "execution_count": 55,
   "metadata": {
    "collapsed": true
   },
   "outputs": [
    {
     "data": {
      "text/plain": [
       "{'A1': '.',\n",
       " 'A2': '',\n",
       " 'A3': '3',\n",
       " 'A4': '',\n",
       " 'A5': '2',\n",
       " 'A6': '',\n",
       " 'A7': '6',\n",
       " 'A8': '',\n",
       " 'A9': '',\n",
       " 'B1': '9',\n",
       " 'B2': '',\n",
       " 'B3': '',\n",
       " 'B4': '3',\n",
       " 'B5': '.',\n",
       " 'B6': '5',\n",
       " 'B7': '',\n",
       " 'B8': '',\n",
       " 'B9': '1',\n",
       " 'C1': '',\n",
       " 'C2': '',\n",
       " 'C3': '1',\n",
       " 'C4': '8',\n",
       " 'C5': '',\n",
       " 'C6': '6',\n",
       " 'C7': '4',\n",
       " 'C8': '.',\n",
       " 'C9': '',\n",
       " 'D1': '',\n",
       " 'D2': '.',\n",
       " 'D3': '8',\n",
       " 'D4': '1',\n",
       " 'D5': '',\n",
       " 'D6': '2',\n",
       " 'D7': '9',\n",
       " 'D8': '',\n",
       " 'D9': '',\n",
       " 'E1': '7',\n",
       " 'E2': '',\n",
       " 'E3': '',\n",
       " 'E4': '.',\n",
       " 'E5': '',\n",
       " 'E6': '',\n",
       " 'E7': '',\n",
       " 'E8': '',\n",
       " 'E9': '8',\n",
       " 'F1': '',\n",
       " 'F2': '',\n",
       " 'F3': '6',\n",
       " 'F4': '7',\n",
       " 'F5': '',\n",
       " 'F6': '8',\n",
       " 'F7': '2',\n",
       " 'F8': '',\n",
       " 'F9': '.',\n",
       " 'G1': '',\n",
       " 'G2': '',\n",
       " 'G3': '2',\n",
       " 'G4': '6',\n",
       " 'G5': '',\n",
       " 'G6': '9',\n",
       " 'G7': '5',\n",
       " 'G8': '',\n",
       " 'G9': '',\n",
       " 'H1': '8',\n",
       " 'H2': '',\n",
       " 'H3': '.',\n",
       " 'H4': '2',\n",
       " 'H5': '',\n",
       " 'H6': '3',\n",
       " 'H7': '',\n",
       " 'H8': '',\n",
       " 'H9': '9',\n",
       " 'I1': '',\n",
       " 'I2': '',\n",
       " 'I3': '5',\n",
       " 'I4': '',\n",
       " 'I5': '1',\n",
       " 'I6': '.',\n",
       " 'I7': '3',\n",
       " 'I8': '',\n",
       " 'I9': ''}"
      ]
     },
     "execution_count": 55,
     "metadata": {},
     "output_type": "execute_result"
    }
   ],
   "source": [
    "only_choice(values)"
   ]
  },
  {
   "cell_type": "code",
   "execution_count": 56,
   "metadata": {
    "collapsed": true
   },
   "outputs": [
    {
     "data": {
      "text/plain": [
       "[['A1', 'A2', 'A3', 'A4', 'A5', 'A6', 'A7', 'A8', 'A9'],\n",
       " ['B1', 'B2', 'B3', 'B4', 'B5', 'B6', 'B7', 'B8', 'B9'],\n",
       " ['C1', 'C2', 'C3', 'C4', 'C5', 'C6', 'C7', 'C8', 'C9'],\n",
       " ['D1', 'D2', 'D3', 'D4', 'D5', 'D6', 'D7', 'D8', 'D9'],\n",
       " ['E1', 'E2', 'E3', 'E4', 'E5', 'E6', 'E7', 'E8', 'E9'],\n",
       " ['F1', 'F2', 'F3', 'F4', 'F5', 'F6', 'F7', 'F8', 'F9'],\n",
       " ['G1', 'G2', 'G3', 'G4', 'G5', 'G6', 'G7', 'G8', 'G9'],\n",
       " ['H1', 'H2', 'H3', 'H4', 'H5', 'H6', 'H7', 'H8', 'H9'],\n",
       " ['I1', 'I2', 'I3', 'I4', 'I5', 'I6', 'I7', 'I8', 'I9'],\n",
       " ['A1', 'B1', 'C1', 'D1', 'E1', 'F1', 'G1', 'H1', 'I1'],\n",
       " ['A2', 'B2', 'C2', 'D2', 'E2', 'F2', 'G2', 'H2', 'I2'],\n",
       " ['A3', 'B3', 'C3', 'D3', 'E3', 'F3', 'G3', 'H3', 'I3'],\n",
       " ['A4', 'B4', 'C4', 'D4', 'E4', 'F4', 'G4', 'H4', 'I4'],\n",
       " ['A5', 'B5', 'C5', 'D5', 'E5', 'F5', 'G5', 'H5', 'I5'],\n",
       " ['A6', 'B6', 'C6', 'D6', 'E6', 'F6', 'G6', 'H6', 'I6'],\n",
       " ['A7', 'B7', 'C7', 'D7', 'E7', 'F7', 'G7', 'H7', 'I7'],\n",
       " ['A8', 'B8', 'C8', 'D8', 'E8', 'F8', 'G8', 'H8', 'I8'],\n",
       " ['A9', 'B9', 'C9', 'D9', 'E9', 'F9', 'G9', 'H9', 'I9'],\n",
       " ['A1', 'A2', 'A3', 'B1', 'B2', 'B3', 'C1', 'C2', 'C3'],\n",
       " ['A4', 'A5', 'A6', 'B4', 'B5', 'B6', 'C4', 'C5', 'C6'],\n",
       " ['A7', 'A8', 'A9', 'B7', 'B8', 'B9', 'C7', 'C8', 'C9'],\n",
       " ['D1', 'D2', 'D3', 'E1', 'E2', 'E3', 'F1', 'F2', 'F3'],\n",
       " ['D4', 'D5', 'D6', 'E4', 'E5', 'E6', 'F4', 'F5', 'F6'],\n",
       " ['D7', 'D8', 'D9', 'E7', 'E8', 'E9', 'F7', 'F8', 'F9'],\n",
       " ['G1', 'G2', 'G3', 'H1', 'H2', 'H3', 'I1', 'I2', 'I3'],\n",
       " ['G4', 'G5', 'G6', 'H4', 'H5', 'H6', 'I4', 'I5', 'I6'],\n",
       " ['G7', 'G8', 'G9', 'H7', 'H8', 'H9', 'I7', 'I8', 'I9']]"
      ]
     },
     "execution_count": 56,
     "metadata": {},
     "output_type": "execute_result"
    }
   ],
   "source": [
    "unitlist"
   ]
  },
  {
   "cell_type": "code",
   "execution_count": 61,
   "metadata": {
    "collapsed": true
   },
   "outputs": [],
   "source": [
    "for unit in unitlist: #iterate through the unitlist (these are sets of peers)\n",
    "    for digit in '123456789':\n",
    "        dplaces = [box for box in unit if digit in values[box]]"
   ]
  },
  {
   "cell_type": "code",
   "execution_count": 70,
   "metadata": {
    "collapsed": false
   },
   "outputs": [
    {
     "data": {
      "text/plain": [
       "True"
      ]
     },
     "execution_count": 70,
     "metadata": {},
     "output_type": "execute_result"
    }
   ],
   "source": [
    "all(['hello','bye', True])"
   ]
  },
  {
   "cell_type": "code",
   "execution_count": 73,
   "metadata": {
    "collapsed": false
   },
   "outputs": [],
   "source": [
    "def search(values):\n",
    "    \"\"\"Using depth-first search and propagation, try all possible values.\n",
    "    So, what is happening here?  First we run the reduce puzzle function which \n",
    "    executes reduce and only choice.\n",
    "    After the function completes, check the puzzle, if it is solved then return it.\n",
    "    If not (returns false), then we need to find the unfinished square that has the least letters\n",
    "    Now, replace that square with a single value, and recursively run the search() function. (DFS)\n",
    "\n",
    "    \"\"\"\n",
    "    # First, reduce the puzzle using the previous function\n",
    "    values = reduce_puzzle(values)\n",
    "    if values is False:\n",
    "        return False ## Failed earlier\n",
    "    if all(len(values[s]) == 1 for s in boxes): \n",
    "        return values ## Solved!\n",
    "    # Choose one of the unfilled squares with the fewest possibilities\n",
    "    n,s = min((len(values[s]), s) for s in boxes if len(values[s]) > 1)\n",
    "    # Now use recurrence to solve each one of the resulting sudokus, and \n",
    "    for value in values[s]:\n",
    "        new_sudoku = values.copy()\n",
    "        new_sudoku[s] = value\n",
    "        attempt = search(new_sudoku)\n",
    "        if attempt:\n",
    "            return attempt"
   ]
  },
  {
   "cell_type": "code",
   "execution_count": 75,
   "metadata": {
    "collapsed": true
   },
   "outputs": [],
   "source": [
    "grid = '2.............62....1....7...6..8...3...9...7...6..4...4....8....52.............3'"
   ]
  },
  {
   "cell_type": "code",
   "execution_count": 89,
   "metadata": {
    "collapsed": false
   },
   "outputs": [],
   "source": [
    "mygrid = grid_values(grid)"
   ]
  },
  {
   "cell_type": "code",
   "execution_count": 90,
   "metadata": {
    "collapsed": false
   },
   "outputs": [
    {
     "name": "stdout",
     "output_type": "stream",
     "text": [
      "    2     123456789 123456789 |123456789 123456789 123456789 |123456789 123456789 123456789 \n",
      "123456789 123456789 123456789 |123456789 123456789     6     |    2     123456789 123456789 \n",
      "123456789 123456789     1     |123456789 123456789 123456789 |123456789     7     123456789 \n",
      "------------------------------+------------------------------+------------------------------\n",
      "123456789 123456789     6     |123456789 123456789     8     |123456789 123456789 123456789 \n",
      "    3     123456789 123456789 |123456789     9     123456789 |123456789 123456789     7     \n",
      "123456789 123456789 123456789 |    6     123456789 123456789 |    4     123456789 123456789 \n",
      "------------------------------+------------------------------+------------------------------\n",
      "123456789     4     123456789 |123456789 123456789 123456789 |    8     123456789 123456789 \n",
      "123456789 123456789     5     |    2     123456789 123456789 |123456789 123456789 123456789 \n",
      "123456789 123456789 123456789 |123456789 123456789 123456789 |123456789 123456789     3     \n"
     ]
    }
   ],
   "source": [
    "display(mygrid)"
   ]
  },
  {
   "cell_type": "code",
   "execution_count": 94,
   "metadata": {
    "collapsed": false,
    "scrolled": true
   },
   "outputs": [
    {
     "data": {
      "text/plain": [
       "{'A1': '2',\n",
       " 'A2': '356789',\n",
       " 'A3': '34789',\n",
       " 'A4': '1345789',\n",
       " 'A5': '134578',\n",
       " 'A6': '134579',\n",
       " 'A7': '13569',\n",
       " 'A8': '1345689',\n",
       " 'A9': '145689',\n",
       " 'B1': '45789',\n",
       " 'B2': '35789',\n",
       " 'B3': '34789',\n",
       " 'B4': '1345789',\n",
       " 'B5': '134578',\n",
       " 'B6': '6',\n",
       " 'B7': '2',\n",
       " 'B8': '134589',\n",
       " 'B9': '14589',\n",
       " 'C1': '45689',\n",
       " 'C2': '35689',\n",
       " 'C3': '1',\n",
       " 'C4': '34589',\n",
       " 'C5': '23458',\n",
       " 'C6': '23459',\n",
       " 'C7': '3569',\n",
       " 'C8': '7',\n",
       " 'C9': '45689',\n",
       " 'D1': '14579',\n",
       " 'D2': '12579',\n",
       " 'D3': '6',\n",
       " 'D4': '13457',\n",
       " 'D5': '123457',\n",
       " 'D6': '8',\n",
       " 'D7': '1359',\n",
       " 'D8': '12359',\n",
       " 'D9': '1259',\n",
       " 'E1': '3',\n",
       " 'E2': '1258',\n",
       " 'E3': '248',\n",
       " 'E4': '145',\n",
       " 'E5': '9',\n",
       " 'E6': '1245',\n",
       " 'E7': '156',\n",
       " 'E8': '12568',\n",
       " 'E9': '7',\n",
       " 'F1': '15789',\n",
       " 'F2': '125789',\n",
       " 'F3': '2789',\n",
       " 'F4': '6',\n",
       " 'F5': '12357',\n",
       " 'F6': '12357',\n",
       " 'F7': '4',\n",
       " 'F8': '123589',\n",
       " 'F9': '12589',\n",
       " 'G1': '1679',\n",
       " 'G2': '4',\n",
       " 'G3': '2379',\n",
       " 'G4': '13579',\n",
       " 'G5': '13567',\n",
       " 'G6': '13579',\n",
       " 'G7': '8',\n",
       " 'G8': '12569',\n",
       " 'G9': '12569',\n",
       " 'H1': '16789',\n",
       " 'H2': '136789',\n",
       " 'H3': '5',\n",
       " 'H4': '2',\n",
       " 'H5': '134678',\n",
       " 'H6': '13479',\n",
       " 'H7': '1679',\n",
       " 'H8': '1469',\n",
       " 'H9': '1469',\n",
       " 'I1': '16789',\n",
       " 'I2': '126789',\n",
       " 'I3': '2789',\n",
       " 'I4': '145789',\n",
       " 'I5': '145678',\n",
       " 'I6': '14579',\n",
       " 'I7': '15679',\n",
       " 'I8': '124569',\n",
       " 'I9': '3'}"
      ]
     },
     "execution_count": 94,
     "metadata": {},
     "output_type": "execute_result"
    }
   ],
   "source": [
    "reduce_puzzle(mygrid)"
   ]
  },
  {
   "cell_type": "code",
   "execution_count": 95,
   "metadata": {
    "collapsed": false
   },
   "outputs": [
    {
     "data": {
      "text/plain": [
       "{'A1': '2',\n",
       " 'A2': '356789',\n",
       " 'A3': '34789',\n",
       " 'A4': '1345789',\n",
       " 'A5': '134578',\n",
       " 'A6': '134579',\n",
       " 'A7': '13569',\n",
       " 'A8': '1345689',\n",
       " 'A9': '145689',\n",
       " 'B1': '45789',\n",
       " 'B2': '35789',\n",
       " 'B3': '34789',\n",
       " 'B4': '1345789',\n",
       " 'B5': '134578',\n",
       " 'B6': '6',\n",
       " 'B7': '2',\n",
       " 'B8': '134589',\n",
       " 'B9': '14589',\n",
       " 'C1': '45689',\n",
       " 'C2': '35689',\n",
       " 'C3': '1',\n",
       " 'C4': '34589',\n",
       " 'C5': '23458',\n",
       " 'C6': '23459',\n",
       " 'C7': '3569',\n",
       " 'C8': '7',\n",
       " 'C9': '45689',\n",
       " 'D1': '14579',\n",
       " 'D2': '12579',\n",
       " 'D3': '6',\n",
       " 'D4': '13457',\n",
       " 'D5': '123457',\n",
       " 'D6': '8',\n",
       " 'D7': '1359',\n",
       " 'D8': '12359',\n",
       " 'D9': '1259',\n",
       " 'E1': '3',\n",
       " 'E2': '1258',\n",
       " 'E3': '248',\n",
       " 'E4': '145',\n",
       " 'E5': '9',\n",
       " 'E6': '1245',\n",
       " 'E7': '156',\n",
       " 'E8': '12568',\n",
       " 'E9': '7',\n",
       " 'F1': '15789',\n",
       " 'F2': '125789',\n",
       " 'F3': '2789',\n",
       " 'F4': '6',\n",
       " 'F5': '12357',\n",
       " 'F6': '12357',\n",
       " 'F7': '4',\n",
       " 'F8': '123589',\n",
       " 'F9': '12589',\n",
       " 'G1': '1679',\n",
       " 'G2': '4',\n",
       " 'G3': '2379',\n",
       " 'G4': '13579',\n",
       " 'G5': '13567',\n",
       " 'G6': '13579',\n",
       " 'G7': '8',\n",
       " 'G8': '12569',\n",
       " 'G9': '12569',\n",
       " 'H1': '16789',\n",
       " 'H2': '136789',\n",
       " 'H3': '5',\n",
       " 'H4': '2',\n",
       " 'H5': '134678',\n",
       " 'H6': '13479',\n",
       " 'H7': '1679',\n",
       " 'H8': '1469',\n",
       " 'H9': '1469',\n",
       " 'I1': '16789',\n",
       " 'I2': '126789',\n",
       " 'I3': '2789',\n",
       " 'I4': '145789',\n",
       " 'I5': '145678',\n",
       " 'I6': '14579',\n",
       " 'I7': '15679',\n",
       " 'I8': '124569',\n",
       " 'I9': '3'}"
      ]
     },
     "execution_count": 95,
     "metadata": {},
     "output_type": "execute_result"
    }
   ],
   "source": [
    "eliminate(mygrid)"
   ]
  },
  {
   "cell_type": "code",
   "execution_count": 96,
   "metadata": {
    "collapsed": false
   },
   "outputs": [
    {
     "data": {
      "text/plain": [
       "{'A1': '2',\n",
       " 'A2': '3',\n",
       " 'A3': '9',\n",
       " 'A4': '8',\n",
       " 'A5': '7',\n",
       " 'A6': '4',\n",
       " 'A7': '1',\n",
       " 'A8': '5',\n",
       " 'A9': '6',\n",
       " 'B1': '7',\n",
       " 'B2': '5',\n",
       " 'B3': '4',\n",
       " 'B4': '3',\n",
       " 'B5': '1',\n",
       " 'B6': '6',\n",
       " 'B7': '2',\n",
       " 'B8': '9',\n",
       " 'B9': '8',\n",
       " 'C1': '6',\n",
       " 'C2': '8',\n",
       " 'C3': '1',\n",
       " 'C4': '9',\n",
       " 'C5': '5',\n",
       " 'C6': '2',\n",
       " 'C7': '3',\n",
       " 'C8': '7',\n",
       " 'C9': '4',\n",
       " 'D1': '4',\n",
       " 'D2': '7',\n",
       " 'D3': '6',\n",
       " 'D4': '1',\n",
       " 'D5': '2',\n",
       " 'D6': '8',\n",
       " 'D7': '5',\n",
       " 'D8': '3',\n",
       " 'D9': '9',\n",
       " 'E1': '3',\n",
       " 'E2': '1',\n",
       " 'E3': '2',\n",
       " 'E4': '4',\n",
       " 'E5': '9',\n",
       " 'E6': '5',\n",
       " 'E7': '6',\n",
       " 'E8': '8',\n",
       " 'E9': '7',\n",
       " 'F1': '5',\n",
       " 'F2': '9',\n",
       " 'F3': '8',\n",
       " 'F4': '6',\n",
       " 'F5': '3',\n",
       " 'F6': '7',\n",
       " 'F7': '4',\n",
       " 'F8': '1',\n",
       " 'F9': '2',\n",
       " 'G1': '1',\n",
       " 'G2': '4',\n",
       " 'G3': '3',\n",
       " 'G4': '7',\n",
       " 'G5': '6',\n",
       " 'G6': '9',\n",
       " 'G7': '8',\n",
       " 'G8': '2',\n",
       " 'G9': '5',\n",
       " 'H1': '9',\n",
       " 'H2': '6',\n",
       " 'H3': '5',\n",
       " 'H4': '2',\n",
       " 'H5': '8',\n",
       " 'H6': '3',\n",
       " 'H7': '7',\n",
       " 'H8': '4',\n",
       " 'H9': '1',\n",
       " 'I1': '8',\n",
       " 'I2': '2',\n",
       " 'I3': '7',\n",
       " 'I4': '5',\n",
       " 'I5': '4',\n",
       " 'I6': '1',\n",
       " 'I7': '9',\n",
       " 'I8': '6',\n",
       " 'I9': '3'}"
      ]
     },
     "execution_count": 96,
     "metadata": {},
     "output_type": "execute_result"
    }
   ],
   "source": [
    "search(mygrid)"
   ]
  },
  {
   "cell_type": "code",
   "execution_count": 97,
   "metadata": {
    "collapsed": false
   },
   "outputs": [
    {
     "data": {
      "text/plain": [
       "{'A1': '2',\n",
       " 'A2': '356789',\n",
       " 'A3': '34789',\n",
       " 'A4': '1345789',\n",
       " 'A5': '134578',\n",
       " 'A6': '134579',\n",
       " 'A7': '13569',\n",
       " 'A8': '1345689',\n",
       " 'A9': '145689',\n",
       " 'B1': '45789',\n",
       " 'B2': '35789',\n",
       " 'B3': '34789',\n",
       " 'B4': '1345789',\n",
       " 'B5': '134578',\n",
       " 'B6': '6',\n",
       " 'B7': '2',\n",
       " 'B8': '134589',\n",
       " 'B9': '14589',\n",
       " 'C1': '45689',\n",
       " 'C2': '35689',\n",
       " 'C3': '1',\n",
       " 'C4': '34589',\n",
       " 'C5': '23458',\n",
       " 'C6': '23459',\n",
       " 'C7': '3569',\n",
       " 'C8': '7',\n",
       " 'C9': '45689',\n",
       " 'D1': '14579',\n",
       " 'D2': '12579',\n",
       " 'D3': '6',\n",
       " 'D4': '13457',\n",
       " 'D5': '123457',\n",
       " 'D6': '8',\n",
       " 'D7': '1359',\n",
       " 'D8': '12359',\n",
       " 'D9': '1259',\n",
       " 'E1': '3',\n",
       " 'E2': '1258',\n",
       " 'E3': '248',\n",
       " 'E4': '145',\n",
       " 'E5': '9',\n",
       " 'E6': '1245',\n",
       " 'E7': '156',\n",
       " 'E8': '12568',\n",
       " 'E9': '7',\n",
       " 'F1': '15789',\n",
       " 'F2': '125789',\n",
       " 'F3': '2789',\n",
       " 'F4': '6',\n",
       " 'F5': '12357',\n",
       " 'F6': '12357',\n",
       " 'F7': '4',\n",
       " 'F8': '123589',\n",
       " 'F9': '12589',\n",
       " 'G1': '1679',\n",
       " 'G2': '4',\n",
       " 'G3': '2379',\n",
       " 'G4': '13579',\n",
       " 'G5': '13567',\n",
       " 'G6': '13579',\n",
       " 'G7': '8',\n",
       " 'G8': '12569',\n",
       " 'G9': '12569',\n",
       " 'H1': '16789',\n",
       " 'H2': '136789',\n",
       " 'H3': '5',\n",
       " 'H4': '2',\n",
       " 'H5': '134678',\n",
       " 'H6': '13479',\n",
       " 'H7': '1679',\n",
       " 'H8': '1469',\n",
       " 'H9': '1469',\n",
       " 'I1': '16789',\n",
       " 'I2': '126789',\n",
       " 'I3': '2789',\n",
       " 'I4': '145789',\n",
       " 'I5': '145678',\n",
       " 'I6': '14579',\n",
       " 'I7': '15679',\n",
       " 'I8': '124569',\n",
       " 'I9': '3'}"
      ]
     },
     "execution_count": 97,
     "metadata": {},
     "output_type": "execute_result"
    }
   ],
   "source": [
    "mygrid"
   ]
  },
  {
   "cell_type": "code",
   "execution_count": 98,
   "metadata": {
    "collapsed": false
   },
   "outputs": [],
   "source": [
    "solution = search(mygrid)"
   ]
  },
  {
   "cell_type": "code",
   "execution_count": 100,
   "metadata": {
    "collapsed": false
   },
   "outputs": [
    {
     "name": "stdout",
     "output_type": "stream",
     "text": [
      "2 3 9 |8 7 4 |1 5 6 \n",
      "7 5 4 |3 1 6 |2 9 8 \n",
      "6 8 1 |9 5 2 |3 7 4 \n",
      "------+------+------\n",
      "4 7 6 |1 2 8 |5 3 9 \n",
      "3 1 2 |4 9 5 |6 8 7 \n",
      "5 9 8 |6 3 7 |4 1 2 \n",
      "------+------+------\n",
      "1 4 3 |7 6 9 |8 2 5 \n",
      "9 6 5 |2 8 3 |7 4 1 \n",
      "8 2 7 |5 4 1 |9 6 3 \n"
     ]
    }
   ],
   "source": [
    "display(solution)"
   ]
  },
  {
   "cell_type": "code",
   "execution_count": 131,
   "metadata": {
    "collapsed": true
   },
   "outputs": [],
   "source": [
    "def solve(grid):\n",
    "    \"\"\"\n",
    "    Find the solution to a Sudoku grid.\n",
    "    Args:\n",
    "        grid(string): a string representing a sudoku grid.\n",
    "            Example: '2.............62....1....7...6..8...3...9...7...6..4...4....8....52.............3'\n",
    "    Returns:\n",
    "        The dictionary representation of the final sudoku grid. False if no solution exists.\n",
    "    \"\"\"\n",
    "    values = grid_values(grid)\n",
    "    myanswer = search(values)\n",
    "    return myanswer"
   ]
  }
 ],
 "metadata": {
  "kernelspec": {
   "display_name": "Python 3",
   "language": "python",
   "name": "python3"
  },
  "language_info": {
   "codemirror_mode": {
    "name": "ipython",
    "version": 3
   },
   "file_extension": ".py",
   "mimetype": "text/x-python",
   "name": "python",
   "nbconvert_exporter": "python",
   "pygments_lexer": "ipython3",
   "version": "3.6.0"
  }
 },
 "nbformat": 4,
 "nbformat_minor": 2
}
